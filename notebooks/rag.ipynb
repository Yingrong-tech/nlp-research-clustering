{
 "cells": [
  {
   "cell_type": "code",
   "id": "initial_id",
   "metadata": {
    "collapsed": true,
    "ExecuteTime": {
     "end_time": "2025-05-05T11:42:49.824094Z",
     "start_time": "2025-05-05T11:42:48.910430Z"
    }
   },
   "source": "!pip install langchain langchain_community sentence-transformers faiss-cpu transformers torch accelerate",
   "outputs": [
    {
     "name": "stdout",
     "output_type": "stream",
     "text": [
      "Requirement already satisfied: langchain in /Users/waritboonmasiri/Library/Caches/pypoetry/virtualenvs/nlp-research-clustering-W6zAjQxv-py3.11/lib/python3.11/site-packages (0.3.25)\r\n",
      "Requirement already satisfied: langchain_community in /Users/waritboonmasiri/Library/Caches/pypoetry/virtualenvs/nlp-research-clustering-W6zAjQxv-py3.11/lib/python3.11/site-packages (0.3.23)\r\n",
      "Requirement already satisfied: sentence-transformers in /Users/waritboonmasiri/Library/Caches/pypoetry/virtualenvs/nlp-research-clustering-W6zAjQxv-py3.11/lib/python3.11/site-packages (4.1.0)\r\n",
      "Requirement already satisfied: faiss-cpu in /Users/waritboonmasiri/Library/Caches/pypoetry/virtualenvs/nlp-research-clustering-W6zAjQxv-py3.11/lib/python3.11/site-packages (1.11.0)\r\n",
      "Requirement already satisfied: transformers in /Users/waritboonmasiri/Library/Caches/pypoetry/virtualenvs/nlp-research-clustering-W6zAjQxv-py3.11/lib/python3.11/site-packages (4.51.3)\r\n",
      "Requirement already satisfied: torch in /Users/waritboonmasiri/Library/Caches/pypoetry/virtualenvs/nlp-research-clustering-W6zAjQxv-py3.11/lib/python3.11/site-packages (2.7.0)\r\n",
      "Requirement already satisfied: accelerate in /Users/waritboonmasiri/Library/Caches/pypoetry/virtualenvs/nlp-research-clustering-W6zAjQxv-py3.11/lib/python3.11/site-packages (1.6.0)\r\n",
      "Requirement already satisfied: langchain-core<1.0.0,>=0.3.58 in /Users/waritboonmasiri/Library/Caches/pypoetry/virtualenvs/nlp-research-clustering-W6zAjQxv-py3.11/lib/python3.11/site-packages (from langchain) (0.3.58)\r\n",
      "Requirement already satisfied: langchain-text-splitters<1.0.0,>=0.3.8 in /Users/waritboonmasiri/Library/Caches/pypoetry/virtualenvs/nlp-research-clustering-W6zAjQxv-py3.11/lib/python3.11/site-packages (from langchain) (0.3.8)\r\n",
      "Requirement already satisfied: langsmith<0.4,>=0.1.17 in /Users/waritboonmasiri/Library/Caches/pypoetry/virtualenvs/nlp-research-clustering-W6zAjQxv-py3.11/lib/python3.11/site-packages (from langchain) (0.3.42)\r\n",
      "Requirement already satisfied: pydantic<3.0.0,>=2.7.4 in /Users/waritboonmasiri/Library/Caches/pypoetry/virtualenvs/nlp-research-clustering-W6zAjQxv-py3.11/lib/python3.11/site-packages (from langchain) (2.11.3)\r\n",
      "Requirement already satisfied: SQLAlchemy<3,>=1.4 in /Users/waritboonmasiri/Library/Caches/pypoetry/virtualenvs/nlp-research-clustering-W6zAjQxv-py3.11/lib/python3.11/site-packages (from langchain) (2.0.40)\r\n",
      "Requirement already satisfied: requests<3,>=2 in /Users/waritboonmasiri/Library/Caches/pypoetry/virtualenvs/nlp-research-clustering-W6zAjQxv-py3.11/lib/python3.11/site-packages (from langchain) (2.32.3)\r\n",
      "Requirement already satisfied: PyYAML>=5.3 in /Users/waritboonmasiri/Library/Caches/pypoetry/virtualenvs/nlp-research-clustering-W6zAjQxv-py3.11/lib/python3.11/site-packages (from langchain) (6.0.2)\r\n",
      "Requirement already satisfied: aiohttp<4.0.0,>=3.8.3 in /Users/waritboonmasiri/Library/Caches/pypoetry/virtualenvs/nlp-research-clustering-W6zAjQxv-py3.11/lib/python3.11/site-packages (from langchain_community) (3.11.18)\r\n",
      "Requirement already satisfied: tenacity!=8.4.0,<10,>=8.1.0 in /Users/waritboonmasiri/Library/Caches/pypoetry/virtualenvs/nlp-research-clustering-W6zAjQxv-py3.11/lib/python3.11/site-packages (from langchain_community) (9.1.2)\r\n",
      "Requirement already satisfied: dataclasses-json<0.7,>=0.5.7 in /Users/waritboonmasiri/Library/Caches/pypoetry/virtualenvs/nlp-research-clustering-W6zAjQxv-py3.11/lib/python3.11/site-packages (from langchain_community) (0.6.7)\r\n",
      "Requirement already satisfied: pydantic-settings<3.0.0,>=2.4.0 in /Users/waritboonmasiri/Library/Caches/pypoetry/virtualenvs/nlp-research-clustering-W6zAjQxv-py3.11/lib/python3.11/site-packages (from langchain_community) (2.9.1)\r\n",
      "Requirement already satisfied: httpx-sse<1.0.0,>=0.4.0 in /Users/waritboonmasiri/Library/Caches/pypoetry/virtualenvs/nlp-research-clustering-W6zAjQxv-py3.11/lib/python3.11/site-packages (from langchain_community) (0.4.0)\r\n",
      "Requirement already satisfied: numpy>=1.26.2 in /Users/waritboonmasiri/Library/Caches/pypoetry/virtualenvs/nlp-research-clustering-W6zAjQxv-py3.11/lib/python3.11/site-packages (from langchain_community) (2.2.5)\r\n",
      "Requirement already satisfied: tqdm in /Users/waritboonmasiri/Library/Caches/pypoetry/virtualenvs/nlp-research-clustering-W6zAjQxv-py3.11/lib/python3.11/site-packages (from sentence-transformers) (4.67.1)\r\n",
      "Requirement already satisfied: scikit-learn in /Users/waritboonmasiri/Library/Caches/pypoetry/virtualenvs/nlp-research-clustering-W6zAjQxv-py3.11/lib/python3.11/site-packages (from sentence-transformers) (1.6.1)\r\n",
      "Requirement already satisfied: scipy in /Users/waritboonmasiri/Library/Caches/pypoetry/virtualenvs/nlp-research-clustering-W6zAjQxv-py3.11/lib/python3.11/site-packages (from sentence-transformers) (1.15.2)\r\n",
      "Requirement already satisfied: huggingface-hub>=0.20.0 in /Users/waritboonmasiri/Library/Caches/pypoetry/virtualenvs/nlp-research-clustering-W6zAjQxv-py3.11/lib/python3.11/site-packages (from sentence-transformers) (0.30.2)\r\n",
      "Requirement already satisfied: Pillow in /Users/waritboonmasiri/Library/Caches/pypoetry/virtualenvs/nlp-research-clustering-W6zAjQxv-py3.11/lib/python3.11/site-packages (from sentence-transformers) (11.2.1)\r\n",
      "Requirement already satisfied: typing_extensions>=4.5.0 in /Users/waritboonmasiri/Library/Caches/pypoetry/virtualenvs/nlp-research-clustering-W6zAjQxv-py3.11/lib/python3.11/site-packages (from sentence-transformers) (4.13.2)\r\n",
      "Requirement already satisfied: packaging in /Users/waritboonmasiri/Library/Caches/pypoetry/virtualenvs/nlp-research-clustering-W6zAjQxv-py3.11/lib/python3.11/site-packages (from faiss-cpu) (24.2)\r\n",
      "Requirement already satisfied: filelock in /Users/waritboonmasiri/Library/Caches/pypoetry/virtualenvs/nlp-research-clustering-W6zAjQxv-py3.11/lib/python3.11/site-packages (from transformers) (3.18.0)\r\n",
      "Requirement already satisfied: regex!=2019.12.17 in /Users/waritboonmasiri/Library/Caches/pypoetry/virtualenvs/nlp-research-clustering-W6zAjQxv-py3.11/lib/python3.11/site-packages (from transformers) (2024.11.6)\r\n",
      "Requirement already satisfied: tokenizers<0.22,>=0.21 in /Users/waritboonmasiri/Library/Caches/pypoetry/virtualenvs/nlp-research-clustering-W6zAjQxv-py3.11/lib/python3.11/site-packages (from transformers) (0.21.1)\r\n",
      "Requirement already satisfied: safetensors>=0.4.3 in /Users/waritboonmasiri/Library/Caches/pypoetry/virtualenvs/nlp-research-clustering-W6zAjQxv-py3.11/lib/python3.11/site-packages (from transformers) (0.5.3)\r\n",
      "Requirement already satisfied: sympy>=1.13.3 in /Users/waritboonmasiri/Library/Caches/pypoetry/virtualenvs/nlp-research-clustering-W6zAjQxv-py3.11/lib/python3.11/site-packages (from torch) (1.14.0)\r\n",
      "Requirement already satisfied: networkx in /Users/waritboonmasiri/Library/Caches/pypoetry/virtualenvs/nlp-research-clustering-W6zAjQxv-py3.11/lib/python3.11/site-packages (from torch) (3.4.2)\r\n",
      "Requirement already satisfied: jinja2 in /Users/waritboonmasiri/Library/Caches/pypoetry/virtualenvs/nlp-research-clustering-W6zAjQxv-py3.11/lib/python3.11/site-packages (from torch) (3.1.6)\r\n",
      "Requirement already satisfied: fsspec in /Users/waritboonmasiri/Library/Caches/pypoetry/virtualenvs/nlp-research-clustering-W6zAjQxv-py3.11/lib/python3.11/site-packages (from torch) (2025.3.2)\r\n",
      "Requirement already satisfied: psutil in /Users/waritboonmasiri/Library/Caches/pypoetry/virtualenvs/nlp-research-clustering-W6zAjQxv-py3.11/lib/python3.11/site-packages (from accelerate) (7.0.0)\r\n",
      "Requirement already satisfied: aiohappyeyeballs>=2.3.0 in /Users/waritboonmasiri/Library/Caches/pypoetry/virtualenvs/nlp-research-clustering-W6zAjQxv-py3.11/lib/python3.11/site-packages (from aiohttp<4.0.0,>=3.8.3->langchain_community) (2.6.1)\r\n",
      "Requirement already satisfied: aiosignal>=1.1.2 in /Users/waritboonmasiri/Library/Caches/pypoetry/virtualenvs/nlp-research-clustering-W6zAjQxv-py3.11/lib/python3.11/site-packages (from aiohttp<4.0.0,>=3.8.3->langchain_community) (1.3.2)\r\n",
      "Requirement already satisfied: attrs>=17.3.0 in /Users/waritboonmasiri/Library/Caches/pypoetry/virtualenvs/nlp-research-clustering-W6zAjQxv-py3.11/lib/python3.11/site-packages (from aiohttp<4.0.0,>=3.8.3->langchain_community) (25.3.0)\r\n",
      "Requirement already satisfied: frozenlist>=1.1.1 in /Users/waritboonmasiri/Library/Caches/pypoetry/virtualenvs/nlp-research-clustering-W6zAjQxv-py3.11/lib/python3.11/site-packages (from aiohttp<4.0.0,>=3.8.3->langchain_community) (1.6.0)\r\n",
      "Requirement already satisfied: multidict<7.0,>=4.5 in /Users/waritboonmasiri/Library/Caches/pypoetry/virtualenvs/nlp-research-clustering-W6zAjQxv-py3.11/lib/python3.11/site-packages (from aiohttp<4.0.0,>=3.8.3->langchain_community) (6.4.3)\r\n",
      "Requirement already satisfied: propcache>=0.2.0 in /Users/waritboonmasiri/Library/Caches/pypoetry/virtualenvs/nlp-research-clustering-W6zAjQxv-py3.11/lib/python3.11/site-packages (from aiohttp<4.0.0,>=3.8.3->langchain_community) (0.3.1)\r\n",
      "Requirement already satisfied: yarl<2.0,>=1.17.0 in /Users/waritboonmasiri/Library/Caches/pypoetry/virtualenvs/nlp-research-clustering-W6zAjQxv-py3.11/lib/python3.11/site-packages (from aiohttp<4.0.0,>=3.8.3->langchain_community) (1.20.0)\r\n",
      "Requirement already satisfied: marshmallow<4.0.0,>=3.18.0 in /Users/waritboonmasiri/Library/Caches/pypoetry/virtualenvs/nlp-research-clustering-W6zAjQxv-py3.11/lib/python3.11/site-packages (from dataclasses-json<0.7,>=0.5.7->langchain_community) (3.26.1)\r\n",
      "Requirement already satisfied: typing-inspect<1,>=0.4.0 in /Users/waritboonmasiri/Library/Caches/pypoetry/virtualenvs/nlp-research-clustering-W6zAjQxv-py3.11/lib/python3.11/site-packages (from dataclasses-json<0.7,>=0.5.7->langchain_community) (0.9.0)\r\n",
      "Requirement already satisfied: jsonpatch<2.0,>=1.33 in /Users/waritboonmasiri/Library/Caches/pypoetry/virtualenvs/nlp-research-clustering-W6zAjQxv-py3.11/lib/python3.11/site-packages (from langchain-core<1.0.0,>=0.3.58->langchain) (1.33)\r\n",
      "Requirement already satisfied: httpx<1,>=0.23.0 in /Users/waritboonmasiri/Library/Caches/pypoetry/virtualenvs/nlp-research-clustering-W6zAjQxv-py3.11/lib/python3.11/site-packages (from langsmith<0.4,>=0.1.17->langchain) (0.28.1)\r\n",
      "Requirement already satisfied: orjson<4.0.0,>=3.9.14 in /Users/waritboonmasiri/Library/Caches/pypoetry/virtualenvs/nlp-research-clustering-W6zAjQxv-py3.11/lib/python3.11/site-packages (from langsmith<0.4,>=0.1.17->langchain) (3.10.18)\r\n",
      "Requirement already satisfied: requests-toolbelt<2.0.0,>=1.0.0 in /Users/waritboonmasiri/Library/Caches/pypoetry/virtualenvs/nlp-research-clustering-W6zAjQxv-py3.11/lib/python3.11/site-packages (from langsmith<0.4,>=0.1.17->langchain) (1.0.0)\r\n",
      "Requirement already satisfied: zstandard<0.24.0,>=0.23.0 in /Users/waritboonmasiri/Library/Caches/pypoetry/virtualenvs/nlp-research-clustering-W6zAjQxv-py3.11/lib/python3.11/site-packages (from langsmith<0.4,>=0.1.17->langchain) (0.23.0)\r\n",
      "Requirement already satisfied: annotated-types>=0.6.0 in /Users/waritboonmasiri/Library/Caches/pypoetry/virtualenvs/nlp-research-clustering-W6zAjQxv-py3.11/lib/python3.11/site-packages (from pydantic<3.0.0,>=2.7.4->langchain) (0.7.0)\r\n",
      "Requirement already satisfied: pydantic-core==2.33.1 in /Users/waritboonmasiri/Library/Caches/pypoetry/virtualenvs/nlp-research-clustering-W6zAjQxv-py3.11/lib/python3.11/site-packages (from pydantic<3.0.0,>=2.7.4->langchain) (2.33.1)\r\n",
      "Requirement already satisfied: typing-inspection>=0.4.0 in /Users/waritboonmasiri/Library/Caches/pypoetry/virtualenvs/nlp-research-clustering-W6zAjQxv-py3.11/lib/python3.11/site-packages (from pydantic<3.0.0,>=2.7.4->langchain) (0.4.0)\r\n",
      "Requirement already satisfied: python-dotenv>=0.21.0 in /Users/waritboonmasiri/Library/Caches/pypoetry/virtualenvs/nlp-research-clustering-W6zAjQxv-py3.11/lib/python3.11/site-packages (from pydantic-settings<3.0.0,>=2.4.0->langchain_community) (1.1.0)\r\n",
      "Requirement already satisfied: charset-normalizer<4,>=2 in /Users/waritboonmasiri/Library/Caches/pypoetry/virtualenvs/nlp-research-clustering-W6zAjQxv-py3.11/lib/python3.11/site-packages (from requests<3,>=2->langchain) (3.4.1)\r\n",
      "Requirement already satisfied: idna<4,>=2.5 in /Users/waritboonmasiri/Library/Caches/pypoetry/virtualenvs/nlp-research-clustering-W6zAjQxv-py3.11/lib/python3.11/site-packages (from requests<3,>=2->langchain) (3.10)\r\n",
      "Requirement already satisfied: urllib3<3,>=1.21.1 in /Users/waritboonmasiri/Library/Caches/pypoetry/virtualenvs/nlp-research-clustering-W6zAjQxv-py3.11/lib/python3.11/site-packages (from requests<3,>=2->langchain) (2.4.0)\r\n",
      "Requirement already satisfied: certifi>=2017.4.17 in /Users/waritboonmasiri/Library/Caches/pypoetry/virtualenvs/nlp-research-clustering-W6zAjQxv-py3.11/lib/python3.11/site-packages (from requests<3,>=2->langchain) (2025.1.31)\r\n",
      "Requirement already satisfied: mpmath<1.4,>=1.1.0 in /Users/waritboonmasiri/Library/Caches/pypoetry/virtualenvs/nlp-research-clustering-W6zAjQxv-py3.11/lib/python3.11/site-packages (from sympy>=1.13.3->torch) (1.3.0)\r\n",
      "Requirement already satisfied: MarkupSafe>=2.0 in /Users/waritboonmasiri/Library/Caches/pypoetry/virtualenvs/nlp-research-clustering-W6zAjQxv-py3.11/lib/python3.11/site-packages (from jinja2->torch) (3.0.2)\r\n",
      "Requirement already satisfied: joblib>=1.2.0 in /Users/waritboonmasiri/Library/Caches/pypoetry/virtualenvs/nlp-research-clustering-W6zAjQxv-py3.11/lib/python3.11/site-packages (from scikit-learn->sentence-transformers) (1.4.2)\r\n",
      "Requirement already satisfied: threadpoolctl>=3.1.0 in /Users/waritboonmasiri/Library/Caches/pypoetry/virtualenvs/nlp-research-clustering-W6zAjQxv-py3.11/lib/python3.11/site-packages (from scikit-learn->sentence-transformers) (3.6.0)\r\n",
      "Requirement already satisfied: anyio in /Users/waritboonmasiri/Library/Caches/pypoetry/virtualenvs/nlp-research-clustering-W6zAjQxv-py3.11/lib/python3.11/site-packages (from httpx<1,>=0.23.0->langsmith<0.4,>=0.1.17->langchain) (4.9.0)\r\n",
      "Requirement already satisfied: httpcore==1.* in /Users/waritboonmasiri/Library/Caches/pypoetry/virtualenvs/nlp-research-clustering-W6zAjQxv-py3.11/lib/python3.11/site-packages (from httpx<1,>=0.23.0->langsmith<0.4,>=0.1.17->langchain) (1.0.8)\r\n",
      "Requirement already satisfied: h11<0.15,>=0.13 in /Users/waritboonmasiri/Library/Caches/pypoetry/virtualenvs/nlp-research-clustering-W6zAjQxv-py3.11/lib/python3.11/site-packages (from httpcore==1.*->httpx<1,>=0.23.0->langsmith<0.4,>=0.1.17->langchain) (0.14.0)\r\n",
      "Requirement already satisfied: jsonpointer>=1.9 in /Users/waritboonmasiri/Library/Caches/pypoetry/virtualenvs/nlp-research-clustering-W6zAjQxv-py3.11/lib/python3.11/site-packages (from jsonpatch<2.0,>=1.33->langchain-core<1.0.0,>=0.3.58->langchain) (3.0.0)\r\n",
      "Requirement already satisfied: mypy-extensions>=0.3.0 in /Users/waritboonmasiri/Library/Caches/pypoetry/virtualenvs/nlp-research-clustering-W6zAjQxv-py3.11/lib/python3.11/site-packages (from typing-inspect<1,>=0.4.0->dataclasses-json<0.7,>=0.5.7->langchain_community) (1.1.0)\r\n",
      "Requirement already satisfied: sniffio>=1.1 in /Users/waritboonmasiri/Library/Caches/pypoetry/virtualenvs/nlp-research-clustering-W6zAjQxv-py3.11/lib/python3.11/site-packages (from anyio->httpx<1,>=0.23.0->langsmith<0.4,>=0.1.17->langchain) (1.3.1)\r\n",
      "\r\n",
      "\u001B[1m[\u001B[0m\u001B[34;49mnotice\u001B[0m\u001B[1;39;49m]\u001B[0m\u001B[39;49m A new release of pip is available: \u001B[0m\u001B[31;49m25.0.1\u001B[0m\u001B[39;49m -> \u001B[0m\u001B[32;49m25.1.1\u001B[0m\r\n",
      "\u001B[1m[\u001B[0m\u001B[34;49mnotice\u001B[0m\u001B[1;39;49m]\u001B[0m\u001B[39;49m To update, run: \u001B[0m\u001B[32;49mpip install --upgrade pip\u001B[0m\r\n"
     ]
    }
   ],
   "execution_count": 1
  },
  {
   "metadata": {
    "ExecuteTime": {
     "end_time": "2025-05-05T11:42:53.035531Z",
     "start_time": "2025-05-05T11:42:49.825543Z"
    }
   },
   "cell_type": "code",
   "source": [
    "import pandas as pd\n",
    "from langchain.text_splitter import CharacterTextSplitter\n",
    "from langchain.embeddings import SentenceTransformerEmbeddings\n",
    "from langchain.vectorstores import FAISS\n",
    "from transformers import pipeline\n",
    "from langchain.llms import HuggingFacePipeline\n",
    "from langchain.chains import RetrievalQA"
   ],
   "id": "a33ab62bf679f364",
   "outputs": [],
   "execution_count": 2
  },
  {
   "metadata": {
    "ExecuteTime": {
     "end_time": "2025-05-05T11:42:53.038036Z",
     "start_time": "2025-05-05T11:42:53.036183Z"
    }
   },
   "cell_type": "code",
   "source": [
    "class Config:\n",
    "    SEED: int = 42\n",
    "    SAMPLE: int = 10000\n",
    "    BASE_DATA_PATH: str = '../data/'\n",
    "    BASE_OUTPUT_PATH: str = '../output/'"
   ],
   "id": "eaf9a8318765b62c",
   "outputs": [],
   "execution_count": 3
  },
  {
   "metadata": {
    "ExecuteTime": {
     "end_time": "2025-05-05T11:42:55.021262Z",
     "start_time": "2025-05-05T11:42:53.039433Z"
    }
   },
   "cell_type": "code",
   "source": [
    "file_path = f'{Config.BASE_DATA_PATH}/arXiv_scientific dataset.csv'\n",
    "\n",
    "df = pd.read_csv(file_path)"
   ],
   "id": "c3d61067c712530",
   "outputs": [],
   "execution_count": 4
  },
  {
   "metadata": {
    "ExecuteTime": {
     "end_time": "2025-05-05T11:42:55.026506Z",
     "start_time": "2025-05-05T11:42:55.022141Z"
    }
   },
   "cell_type": "code",
   "source": "df.columns",
   "id": "7b6f101fcc30fc86",
   "outputs": [
    {
     "data": {
      "text/plain": [
       "Index(['id', 'title', 'category', 'category_code', 'published_date',\n",
       "       'updated_date', 'authors', 'first_author', 'summary',\n",
       "       'summary_word_count'],\n",
       "      dtype='object')"
      ]
     },
     "execution_count": 5,
     "metadata": {},
     "output_type": "execute_result"
    }
   ],
   "execution_count": 5
  },
  {
   "metadata": {
    "ExecuteTime": {
     "end_time": "2025-05-05T11:42:55.056887Z",
     "start_time": "2025-05-05T11:42:55.027176Z"
    }
   },
   "cell_type": "code",
   "source": "df = df.sample(Config.SAMPLE, random_state=Config.SEED)",
   "id": "ece6987c654e14b8",
   "outputs": [],
   "execution_count": 6
  },
  {
   "metadata": {
    "ExecuteTime": {
     "end_time": "2025-05-05T11:42:55.061487Z",
     "start_time": "2025-05-05T11:42:55.058284Z"
    }
   },
   "cell_type": "code",
   "source": "len(df)",
   "id": "3d71c07263a7e08",
   "outputs": [
    {
     "data": {
      "text/plain": [
       "10000"
      ]
     },
     "execution_count": 7,
     "metadata": {},
     "output_type": "execute_result"
    }
   ],
   "execution_count": 7
  },
  {
   "metadata": {
    "ExecuteTime": {
     "end_time": "2025-05-05T12:32:25.193304Z",
     "start_time": "2025-05-05T12:32:25.186997Z"
    }
   },
   "cell_type": "code",
   "source": "df.columns",
   "id": "f235ec9806ea997a",
   "outputs": [
    {
     "data": {
      "text/plain": [
       "Index(['id', 'title', 'category', 'category_code', 'published_date',\n",
       "       'updated_date', 'authors', 'first_author', 'summary',\n",
       "       'summary_word_count'],\n",
       "      dtype='object')"
      ]
     },
     "execution_count": 34,
     "metadata": {},
     "output_type": "execute_result"
    }
   ],
   "execution_count": 34
  },
  {
   "metadata": {
    "ExecuteTime": {
     "end_time": "2025-05-05T12:36:37.222919Z",
     "start_time": "2025-05-05T12:36:37.074151Z"
    }
   },
   "cell_type": "code",
   "source": [
    "docs = [\n",
    "    f\"\"\"title: {title}\n",
    "author: {authors}\n",
    "publish_date: {published_date}\n",
    "summary: {summary}\"\"\"\n",
    "    for title, authors, published_date, summary in zip(df[\"title\"], df[\"authors\"], df[\"published_date\"], df[\"summary\"])\n",
    "]\n",
    "\n",
    "splitter = CharacterTextSplitter(chunk_size=500, chunk_overlap=50)\n",
    "texts = []\n",
    "for d in docs:\n",
    "    texts.extend(splitter.split_text(d))"
   ],
   "id": "5a12018c51d4f4e8",
   "outputs": [],
   "execution_count": 44
  },
  {
   "metadata": {
    "ExecuteTime": {
     "end_time": "2025-05-05T12:36:37.536011Z",
     "start_time": "2025-05-05T12:36:37.530855Z"
    }
   },
   "cell_type": "code",
   "source": [
    "print(f'{len(docs)=}')\n",
    "print(f'{len(texts)=}')"
   ],
   "id": "38bbb28183e9a5ea",
   "outputs": [
    {
     "name": "stdout",
     "output_type": "stream",
     "text": [
      "len(docs)=10000\n",
      "len(texts)=10000\n"
     ]
    }
   ],
   "execution_count": 45
  },
  {
   "metadata": {
    "ExecuteTime": {
     "end_time": "2025-05-05T12:36:38.666546Z",
     "start_time": "2025-05-05T12:36:38.662681Z"
    }
   },
   "cell_type": "code",
   "source": [
    "import pprint as pp\n",
    "\n",
    "pp.pprint(docs[0])"
   ],
   "id": "6c091a97c297544b",
   "outputs": [
    {
     "name": "stdout",
     "output_type": "stream",
     "text": [
      "('title: Machine Learning and the Future of Realism\\n'\n",
      " \"author: ['Giles Hooker', 'Cliff Hooker']\\n\"\n",
      " 'publish_date: 4/15/17\\n'\n",
      " 'summary: The preceding three decades have seen the emergence, rise, and '\n",
      " 'proliferation\\n'\n",
      " 'of machine learning (ML). From half-recognised beginnings in perceptrons,\\n'\n",
      " 'neural nets, and decision trees, algorithms that extract correlations (that '\n",
      " 'is,\\n'\n",
      " 'patterns) from a set of data points have broken free from their origin in\\n'\n",
      " 'computational cognition to embrace all forms of problem solving, from voice\\n'\n",
      " 'recognition to medical diagnosis to automated scientific research and\\n'\n",
      " 'driverless cars, and it is now widely opined that the real industrial\\n'\n",
      " 'revolution lies less in mobile phone and similar than in the maturation and\\n'\n",
      " 'universal application of ML. Among the consequences just might be the '\n",
      " 'triumph\\n'\n",
      " 'of anti-realism over realism.')\n"
     ]
    }
   ],
   "execution_count": 46
  },
  {
   "metadata": {
    "ExecuteTime": {
     "end_time": "2025-05-05T12:37:21.636114Z",
     "start_time": "2025-05-05T12:36:40.121758Z"
    }
   },
   "cell_type": "code",
   "source": [
    "embed = SentenceTransformerEmbeddings(model_name=\"all-MiniLM-L6-v2\")\n",
    "vectorstore = FAISS.from_texts(docs, embed)\n",
    "vectorstore.save_local(f\"{Config.BASE_OUTPUT_PATH}/faiss_index\")"
   ],
   "id": "1ea575c8ac57d905",
   "outputs": [],
   "execution_count": 47
  },
  {
   "metadata": {
    "ExecuteTime": {
     "end_time": "2025-05-05T12:30:00.608567Z",
     "start_time": "2025-05-05T12:29:59.836063Z"
    }
   },
   "cell_type": "code",
   "source": [
    "hf_pipe = pipeline(\n",
    "    \"text2text-generation\",\n",
    "    model=\"google/flan-t5-small\",\n",
    "    device_map=\"cpu\"  # CPU by default; or set device_map={\"\": 0} for GPU\n",
    ")\n",
    "llm = HuggingFacePipeline(pipeline=hf_pipe)"
   ],
   "id": "4053d16d7e1d3db3",
   "outputs": [
    {
     "name": "stderr",
     "output_type": "stream",
     "text": [
      "Device set to use cpu\n"
     ]
    }
   ],
   "execution_count": 24
  },
  {
   "metadata": {
    "ExecuteTime": {
     "end_time": "2025-05-05T12:38:21.212240Z",
     "start_time": "2025-05-05T12:38:21.183177Z"
    }
   },
   "cell_type": "code",
   "source": [
    "qa = RetrievalQA.from_chain_type(\n",
    "    llm=llm,\n",
    "    chain_type=\"stuff\",\n",
    "    retriever=vectorstore.as_retriever(search_kwargs={\"k\": 5}),\n",
    "    return_source_documents=True,  # <-- return docs in output\n",
    "    verbose=True,                  # <-- print chain steps (optional)\n",
    ")"
   ],
   "id": "ec81c45782edf938",
   "outputs": [],
   "execution_count": 48
  },
  {
   "metadata": {
    "ExecuteTime": {
     "end_time": "2025-05-05T12:38:52.852425Z",
     "start_time": "2025-05-05T12:38:51.119914Z"
    }
   },
   "cell_type": "code",
   "source": [
    "res = qa({\"query\": \"Who are author of Machine Learning and the Future of Realism?\"})\n",
    "print(\"🏷️ Answer:\\n\", res[\"result\"], \"\\n\")\n",
    "print(\"📄 Retrieved documents:\")\n",
    "for i, doc in enumerate(res[\"source_documents\"], 1):\n",
    "    # doc.page_content is the text, doc.metadata might have your CSV row info\n",
    "    print(f\"\\n----- Doc #{i} -----\")\n",
    "    print(doc.metadata)\n",
    "    print(doc.page_content)"
   ],
   "id": "dfe082f5b193e5d9",
   "outputs": [
    {
     "name": "stdout",
     "output_type": "stream",
     "text": [
      "\n",
      "\n",
      "\u001B[1m> Entering new RetrievalQA chain...\u001B[0m\n",
      "\n",
      "\u001B[1m> Finished chain.\u001B[0m\n",
      "🏷️ Answer:\n",
      " Giles Hooker \n",
      "\n",
      "📄 Retrieved documents:\n",
      "\n",
      "----- Doc #1 -----\n",
      "{}\n",
      "title: Machine Learning and the Future of Realism\n",
      "author: ['Giles Hooker', 'Cliff Hooker']\n",
      "publish_date: 4/15/17\n",
      "summary: The preceding three decades have seen the emergence, rise, and proliferation\n",
      "of machine learning (ML). From half-recognised beginnings in perceptrons,\n",
      "neural nets, and decision trees, algorithms that extract correlations (that is,\n",
      "patterns) from a set of data points have broken free from their origin in\n",
      "computational cognition to embrace all forms of problem solving, from voice\n",
      "recognition to medical diagnosis to automated scientific research and\n",
      "driverless cars, and it is now widely opined that the real industrial\n",
      "revolution lies less in mobile phone and similar than in the maturation and\n",
      "universal application of ML. Among the consequences just might be the triumph\n",
      "of anti-realism over realism.\n",
      "\n",
      "----- Doc #2 -----\n",
      "{}\n",
      "title: The role of prior information and computational power in Machine\n",
      "  Learning\n",
      "author: ['Diego Marcondes', 'Adilson Simonis', 'Junior Barrera']\n",
      "publish_date: 10/31/22\n",
      "summary: Science consists on conceiving hypotheses, confronting them with empirical\n",
      "evidence, and keeping only hypotheses which have not yet been falsified. Under\n",
      "deductive reasoning they are conceived in view of a theory and confronted with\n",
      "empirical evidence in an attempt to falsify it, and under inductive reasoning\n",
      "they are conceived based on observation, confronted with empirical evidence and\n",
      "a theory is established based on the not falsified hypotheses. When the\n",
      "hypotheses testing can be performed with quantitative data, the confrontation\n",
      "can be achieved with Machine Learning methods, whose quality is highly\n",
      "dependent on the hypotheses' complexity, hence on the proper insertion of prior\n",
      "information into the set of hypotheses seeking to decrease its complexity\n",
      "without loosing good hypotheses. However, Machine Learning tools have been\n",
      "applied under the pragmatic view of instrumentalism, which is concerned only\n",
      "with the performance of the methods and not with the understanding of their\n",
      "behavior, leading to methods which are not fully understood. In this context,\n",
      "we discuss how prior information and computational power can be employed to\n",
      "solve a learning problem, but while prior information and a careful design of\n",
      "the hypotheses space has as advantage the interpretability of the results,\n",
      "employing high computational power has the advantage of a higher performance.\n",
      "We discuss why learning methods which combine both should work better from an\n",
      "understanding and performance perspective, arguing in favor of basic\n",
      "theoretical research on Machine Learning, in special about how properties of\n",
      "classifiers may be identified in parameters of modern learning models.\n",
      "\n",
      "----- Doc #3 -----\n",
      "{}\n",
      "title: Efficient and Robust Machine Learning for Real-World Systems\n",
      "author: ['Franz Pernkopf', 'Wolfgang Roth', 'Matthias Zoehrer', 'Lukas Pfeifenberger', 'Guenther Schindler', 'Holger Froening', 'Sebastian Tschiatschek', 'Robert Peharz', 'Matthew Mattina', 'Zoubin Ghahramani']\n",
      "publish_date: 12/5/18\n",
      "summary: While machine learning is traditionally a resource intensive task, embedded\n",
      "systems, autonomous navigation and the vision of the Internet-of-Things fuel\n",
      "the interest in resource efficient approaches. These approaches require a\n",
      "carefully chosen trade-off between performance and resource consumption in\n",
      "terms of computation and energy. On top of this, it is crucial to treat\n",
      "uncertainty in a consistent manner in all but the simplest applications of\n",
      "machine learning systems. In particular, a desideratum for any real-world\n",
      "system is to be robust in the presence of outliers and corrupted data, as well\n",
      "as being `aware' of its limits, i.e.\\ the system should maintain and provide an\n",
      "uncertainty estimate over its own predictions. These complex demands are among\n",
      "the major challenges in current machine learning research and key to ensure a\n",
      "smooth transition of machine learning technology into every day's applications.\n",
      "In this article, we provide an overview of the current state of the art of\n",
      "machine learning techniques facilitating these real-world requirements. First\n",
      "we provide a comprehensive review of resource-efficiency in deep neural\n",
      "networks with focus on techniques for model size reduction, compression and\n",
      "reduced precision. These techniques can be applied during training or as\n",
      "post-processing and are widely used to reduce both computational complexity and\n",
      "memory footprint. As most (practical) neural networks are limited in their ways\n",
      "to treat uncertainty, we contrast them with probabilistic graphical models,\n",
      "which readily serve these desiderata by means of probabilistic inference. In\n",
      "that way, we provide an extensive overview of the current state-of-the-art of\n",
      "robust and efficient machine learning for real-world systems.\n",
      "\n",
      "----- Doc #4 -----\n",
      "{}\n",
      "title: ToyArchitecture: Unsupervised Learning of Interpretable Models of the\n",
      "  World\n",
      "author: ['Jaroslav Vítků', 'Petr Dluhoš', 'Joseph Davidson', 'Matěj Nikl', 'Simon Andersson', 'Přemysl Paška', 'Jan Šinkora', 'Petr Hlubuček', 'Martin Stránský', 'Martin Hyben', 'Martin Poliak', 'Jan Feyereisl', 'Marek Rosa']\n",
      "publish_date: 3/20/19\n",
      "summary: Research in Artificial Intelligence (AI) has focused mostly on two extremes:\n",
      "either on small improvements in narrow AI domains, or on universal theoretical\n",
      "frameworks which are usually uncomputable, incompatible with theories of\n",
      "biological intelligence, or lack practical implementations. The goal of this\n",
      "work is to combine the main advantages of the two: to follow a big picture\n",
      "view, while providing a particular theory and its implementation. In contrast\n",
      "with purely theoretical approaches, the resulting architecture should be usable\n",
      "in realistic settings, but also form the core of a framework containing all the\n",
      "basic mechanisms, into which it should be easier to integrate additional\n",
      "required functionality.\n",
      "  In this paper, we present a novel, purposely simple, and interpretable\n",
      "hierarchical architecture which combines multiple different mechanisms into one\n",
      "system: unsupervised learning of a model of the world, learning the influence\n",
      "of one's own actions on the world, model-based reinforcement learning,\n",
      "hierarchical planning and plan execution, and symbolic/sub-symbolic integration\n",
      "in general. The learned model is stored in the form of hierarchical\n",
      "representations with the following properties: 1) they are increasingly more\n",
      "abstract, but can retain details when needed, and 2) they are easy to\n",
      "manipulate in their local and symbolic-like form, thus also allowing one to\n",
      "observe the learning process at each level of abstraction. On all levels of the\n",
      "system, the representation of the data can be interpreted in both a symbolic\n",
      "and a sub-symbolic manner. This enables the architecture to learn efficiently\n",
      "using sub-symbolic methods and to employ symbolic inference.\n",
      "\n",
      "----- Doc #5 -----\n",
      "{}\n",
      "title: How to avoid machine learning pitfalls: a guide for academic researchers\n",
      "author: ['Michael A. Lones']\n",
      "publish_date: 8/5/21\n",
      "summary: Mistakes in machine learning practice are commonplace, and can result in a\n",
      "loss of confidence in the findings and products of machine learning. This guide\n",
      "outlines common mistakes that occur when using machine learning, and what can\n",
      "be done to avoid them. Whilst it should be accessible to anyone with a basic\n",
      "understanding of machine learning techniques, it focuses on issues that are of\n",
      "particular concern within academic research, such as the need to do rigorous\n",
      "comparisons and reach valid conclusions. It covers five stages of the machine\n",
      "learning process: what to do before model building, how to reliably build\n",
      "models, how to robustly evaluate models, how to compare models fairly, and how\n",
      "to report results.\n"
     ]
    }
   ],
   "execution_count": 49
  },
  {
   "metadata": {
    "ExecuteTime": {
     "end_time": "2025-05-05T12:38:57.353143Z",
     "start_time": "2025-05-05T12:38:57.349792Z"
    }
   },
   "cell_type": "code",
   "source": "res['result']",
   "id": "8dae299aee941e0b",
   "outputs": [
    {
     "data": {
      "text/plain": [
       "'Giles Hooker'"
      ]
     },
     "execution_count": 50,
     "metadata": {},
     "output_type": "execute_result"
    }
   ],
   "execution_count": 50
  },
  {
   "metadata": {},
   "cell_type": "code",
   "outputs": [],
   "execution_count": null,
   "source": "",
   "id": "d806b9ff1076251c"
  }
 ],
 "metadata": {
  "kernelspec": {
   "display_name": "Python 3",
   "language": "python",
   "name": "python3"
  },
  "language_info": {
   "codemirror_mode": {
    "name": "ipython",
    "version": 2
   },
   "file_extension": ".py",
   "mimetype": "text/x-python",
   "name": "python",
   "nbconvert_exporter": "python",
   "pygments_lexer": "ipython2",
   "version": "2.7.6"
  }
 },
 "nbformat": 4,
 "nbformat_minor": 5
}
