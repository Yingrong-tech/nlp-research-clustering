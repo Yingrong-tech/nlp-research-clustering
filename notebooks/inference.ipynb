{
 "cells": [
  {
   "cell_type": "code",
   "id": "initial_id",
   "metadata": {
    "collapsed": true,
    "ExecuteTime": {
     "end_time": "2025-05-04T08:57:33.016150Z",
     "start_time": "2025-05-04T08:57:32.393782Z"
    }
   },
   "source": [
    "import pandas as pd\n",
    "import pickle"
   ],
   "outputs": [],
   "execution_count": 1
  },
  {
   "metadata": {
    "ExecuteTime": {
     "end_time": "2025-05-04T08:57:34.674036Z",
     "start_time": "2025-05-04T08:57:34.671135Z"
    }
   },
   "cell_type": "code",
   "source": [
    "class Config:\n",
    "    SEED: int = 42\n",
    "    SAMPLE: int = 10000\n",
    "    BASE_DATA_PATH: str = '../data/'\n",
    "    BASE_OUTPUT_PATH: str = '../output/'"
   ],
   "id": "d0b69fd37341b107",
   "outputs": [],
   "execution_count": 2
  },
  {
   "metadata": {
    "ExecuteTime": {
     "end_time": "2025-05-04T08:57:42.491283Z",
     "start_time": "2025-05-04T08:57:40.445384Z"
    }
   },
   "cell_type": "code",
   "source": [
    "file_path = f'{Config.BASE_DATA_PATH}/arXiv_scientific dataset.csv'\n",
    "\n",
    "raw_df = pd.read_csv(file_path)"
   ],
   "id": "e9072d5c64f09a03",
   "outputs": [],
   "execution_count": 3
  },
  {
   "metadata": {
    "ExecuteTime": {
     "end_time": "2025-05-04T08:57:45.816978Z",
     "start_time": "2025-05-04T08:57:45.795728Z"
    }
   },
   "cell_type": "code",
   "source": "raw_df.describe()",
   "id": "408f105634cee41c",
   "outputs": [
    {
     "data": {
      "text/plain": [
       "       summary_word_count\n",
       "count       136238.000000\n",
       "mean           162.386830\n",
       "std             49.374474\n",
       "min              1.000000\n",
       "25%            128.000000\n",
       "50%            160.000000\n",
       "75%            195.000000\n",
       "max            552.000000"
      ],
      "text/html": [
       "<div>\n",
       "<style scoped>\n",
       "    .dataframe tbody tr th:only-of-type {\n",
       "        vertical-align: middle;\n",
       "    }\n",
       "\n",
       "    .dataframe tbody tr th {\n",
       "        vertical-align: top;\n",
       "    }\n",
       "\n",
       "    .dataframe thead th {\n",
       "        text-align: right;\n",
       "    }\n",
       "</style>\n",
       "<table border=\"1\" class=\"dataframe\">\n",
       "  <thead>\n",
       "    <tr style=\"text-align: right;\">\n",
       "      <th></th>\n",
       "      <th>summary_word_count</th>\n",
       "    </tr>\n",
       "  </thead>\n",
       "  <tbody>\n",
       "    <tr>\n",
       "      <th>count</th>\n",
       "      <td>136238.000000</td>\n",
       "    </tr>\n",
       "    <tr>\n",
       "      <th>mean</th>\n",
       "      <td>162.386830</td>\n",
       "    </tr>\n",
       "    <tr>\n",
       "      <th>std</th>\n",
       "      <td>49.374474</td>\n",
       "    </tr>\n",
       "    <tr>\n",
       "      <th>min</th>\n",
       "      <td>1.000000</td>\n",
       "    </tr>\n",
       "    <tr>\n",
       "      <th>25%</th>\n",
       "      <td>128.000000</td>\n",
       "    </tr>\n",
       "    <tr>\n",
       "      <th>50%</th>\n",
       "      <td>160.000000</td>\n",
       "    </tr>\n",
       "    <tr>\n",
       "      <th>75%</th>\n",
       "      <td>195.000000</td>\n",
       "    </tr>\n",
       "    <tr>\n",
       "      <th>max</th>\n",
       "      <td>552.000000</td>\n",
       "    </tr>\n",
       "  </tbody>\n",
       "</table>\n",
       "</div>"
      ]
     },
     "execution_count": 4,
     "metadata": {},
     "output_type": "execute_result"
    }
   ],
   "execution_count": 4
  },
  {
   "metadata": {
    "ExecuteTime": {
     "end_time": "2025-05-04T08:58:01.633592Z",
     "start_time": "2025-05-04T08:58:01.515358Z"
    }
   },
   "cell_type": "code",
   "source": [
    "df = raw_df.sample(Config.SAMPLE, random_state=Config.SEED)\n",
    "del raw_df"
   ],
   "id": "9d93d2435c0a044e",
   "outputs": [],
   "execution_count": 5
  },
  {
   "metadata": {
    "ExecuteTime": {
     "end_time": "2025-05-04T09:07:05.158488Z",
     "start_time": "2025-05-04T09:07:05.148528Z"
    }
   },
   "cell_type": "code",
   "source": "len(df)",
   "id": "1a041a1a3d389d95",
   "outputs": [
    {
     "data": {
      "text/plain": [
       "10000"
      ]
     },
     "execution_count": 10,
     "metadata": {},
     "output_type": "execute_result"
    }
   ],
   "execution_count": 10
  },
  {
   "metadata": {
    "ExecuteTime": {
     "end_time": "2025-05-04T08:59:56.821241Z",
     "start_time": "2025-05-04T08:59:56.806293Z"
    }
   },
   "cell_type": "code",
   "source": [
    "tsne_path   = f\"{Config.BASE_OUTPUT_PATH}/X_embedded.p\"\n",
    "labels_path = f\"{Config.BASE_OUTPUT_PATH}/y_pred.p\"\n",
    "\n",
    "with open(tsne_path, \"rb\") as f:\n",
    "    X_embedded = pickle.load(f)\n",
    "\n",
    "with open(labels_path, \"rb\") as f:\n",
    "    y_pred = pickle.load(f)\n",
    "\n",
    "print(X_embedded.shape)  # e.g. (n_samples, 2)\n",
    "print(len(y_pred))       # should be n_samples"
   ],
   "id": "a31fb1bd0166ea6b",
   "outputs": [
    {
     "name": "stdout",
     "output_type": "stream",
     "text": [
      "(10000, 2)\n",
      "10000\n"
     ]
    }
   ],
   "execution_count": 6
  },
  {
   "metadata": {
    "ExecuteTime": {
     "end_time": "2025-05-04T09:07:19.447373Z",
     "start_time": "2025-05-04T09:07:19.442583Z"
    }
   },
   "cell_type": "code",
   "source": [
    "clustered = pd.DataFrame({\n",
    "    \"x\": X_embedded[:,0],\n",
    "    \"y\": X_embedded[:,1],\n",
    "    \"cluster\": y_pred\n",
    "})"
   ],
   "id": "e90f5e7743aeee55",
   "outputs": [],
   "execution_count": 11
  },
  {
   "metadata": {
    "ExecuteTime": {
     "end_time": "2025-05-04T09:07:22.243633Z",
     "start_time": "2025-05-04T09:07:22.239153Z"
    }
   },
   "cell_type": "code",
   "source": "clustered.head(10)",
   "id": "1edee6e370642d2e",
   "outputs": [
    {
     "data": {
      "text/plain": [
       "           x          y  cluster\n",
       "0   1.336798  17.005232        1\n",
       "1 -18.846933 -40.353432        1\n",
       "2  31.002348  -0.271557       13\n",
       "3  26.130459 -46.574505       15\n",
       "4  40.307377 -40.533516       15\n",
       "5  22.725389 -27.248379       14\n",
       "6 -13.936029   2.354316        6\n",
       "7  50.105335  -7.922379        7\n",
       "8  13.077339  19.841257        1\n",
       "9  19.409483 -45.285198       15"
      ],
      "text/html": [
       "<div>\n",
       "<style scoped>\n",
       "    .dataframe tbody tr th:only-of-type {\n",
       "        vertical-align: middle;\n",
       "    }\n",
       "\n",
       "    .dataframe tbody tr th {\n",
       "        vertical-align: top;\n",
       "    }\n",
       "\n",
       "    .dataframe thead th {\n",
       "        text-align: right;\n",
       "    }\n",
       "</style>\n",
       "<table border=\"1\" class=\"dataframe\">\n",
       "  <thead>\n",
       "    <tr style=\"text-align: right;\">\n",
       "      <th></th>\n",
       "      <th>x</th>\n",
       "      <th>y</th>\n",
       "      <th>cluster</th>\n",
       "    </tr>\n",
       "  </thead>\n",
       "  <tbody>\n",
       "    <tr>\n",
       "      <th>0</th>\n",
       "      <td>1.336798</td>\n",
       "      <td>17.005232</td>\n",
       "      <td>1</td>\n",
       "    </tr>\n",
       "    <tr>\n",
       "      <th>1</th>\n",
       "      <td>-18.846933</td>\n",
       "      <td>-40.353432</td>\n",
       "      <td>1</td>\n",
       "    </tr>\n",
       "    <tr>\n",
       "      <th>2</th>\n",
       "      <td>31.002348</td>\n",
       "      <td>-0.271557</td>\n",
       "      <td>13</td>\n",
       "    </tr>\n",
       "    <tr>\n",
       "      <th>3</th>\n",
       "      <td>26.130459</td>\n",
       "      <td>-46.574505</td>\n",
       "      <td>15</td>\n",
       "    </tr>\n",
       "    <tr>\n",
       "      <th>4</th>\n",
       "      <td>40.307377</td>\n",
       "      <td>-40.533516</td>\n",
       "      <td>15</td>\n",
       "    </tr>\n",
       "    <tr>\n",
       "      <th>5</th>\n",
       "      <td>22.725389</td>\n",
       "      <td>-27.248379</td>\n",
       "      <td>14</td>\n",
       "    </tr>\n",
       "    <tr>\n",
       "      <th>6</th>\n",
       "      <td>-13.936029</td>\n",
       "      <td>2.354316</td>\n",
       "      <td>6</td>\n",
       "    </tr>\n",
       "    <tr>\n",
       "      <th>7</th>\n",
       "      <td>50.105335</td>\n",
       "      <td>-7.922379</td>\n",
       "      <td>7</td>\n",
       "    </tr>\n",
       "    <tr>\n",
       "      <th>8</th>\n",
       "      <td>13.077339</td>\n",
       "      <td>19.841257</td>\n",
       "      <td>1</td>\n",
       "    </tr>\n",
       "    <tr>\n",
       "      <th>9</th>\n",
       "      <td>19.409483</td>\n",
       "      <td>-45.285198</td>\n",
       "      <td>15</td>\n",
       "    </tr>\n",
       "  </tbody>\n",
       "</table>\n",
       "</div>"
      ]
     },
     "execution_count": 12,
     "metadata": {},
     "output_type": "execute_result"
    }
   ],
   "execution_count": 12
  },
  {
   "metadata": {
    "ExecuteTime": {
     "end_time": "2025-05-04T09:07:48.318399Z",
     "start_time": "2025-05-04T09:07:48.311487Z"
    }
   },
   "cell_type": "code",
   "source": "df['cluster_id'] = y_pred",
   "id": "7b148d247016eedb",
   "outputs": [],
   "execution_count": 13
  },
  {
   "metadata": {
    "ExecuteTime": {
     "end_time": "2025-05-04T09:13:57.711503Z",
     "start_time": "2025-05-04T09:13:57.627693Z"
    }
   },
   "cell_type": "code",
   "source": "df.query(\"cluster_id == 15\").head(10)",
   "id": "8b5f0a7fe7f20c72",
   "outputs": [
    {
     "data": {
      "text/plain": [
       "                     id                                              title  \\\n",
       "69011  abs-2102.07318v4  A Global to Local Double Embedding Method for ...   \n",
       "57403  abs-1812.05788v2  AU R-CNN: Encoding Expert Prior Knowledge into...   \n",
       "63453  abs-2012.04641v2  Vid2CAD: CAD Model Alignment using Multi-View ...   \n",
       "72438  abs-2211.05531v1  SWTF: Sparse Weighted Temporal Fusion for Dron...   \n",
       "63231  abs-2011.11814v3  MonoRec: Semi-Supervised Dense Reconstruction ...   \n",
       "54121  abs-1612.01057v4  Learning to Segment Object Candidates via Recu...   \n",
       "71292  abs-2207.01987v1  Open-Vocabulary 3D Detection via Image-level C...   \n",
       "69111  abs-2102.12096v1  PFRL: Pose-Free Reinforcement Learning for 6D ...   \n",
       "81178  abs-1904.09062v1  Semi-Supervised First-Person Activity Recognit...   \n",
       "69564  abs-2107.13824v2  VMNet: Voxel-Mesh Network for Geodesic-Aware 3...   \n",
       "\n",
       "                                      category category_code published_date  \\\n",
       "69011  Computer Vision and Pattern Recognition         cs.CV        2/15/21   \n",
       "57403  Computer Vision and Pattern Recognition         cs.CV       12/14/18   \n",
       "63453  Computer Vision and Pattern Recognition         cs.CV        12/8/20   \n",
       "72438  Computer Vision and Pattern Recognition         cs.CV       11/10/22   \n",
       "63231  Computer Vision and Pattern Recognition         cs.CV       11/24/20   \n",
       "54121  Computer Vision and Pattern Recognition         cs.CV        12/4/16   \n",
       "71292  Computer Vision and Pattern Recognition         cs.CV         7/5/22   \n",
       "69111  Computer Vision and Pattern Recognition         cs.CV        2/24/21   \n",
       "81178               Image and Video Processing       eess.IV        4/19/19   \n",
       "69564  Computer Vision and Pattern Recognition         cs.CV        7/29/21   \n",
       "\n",
       "      updated_date                                            authors  \\\n",
       "69011     10/17/21  ['Yiming Xu', 'Jiaxin Li', 'Yiheng Peng', 'Yan...   \n",
       "57403      8/25/19              ['Chen Ma', 'Li Chen', 'Junhai Yong']   \n",
       "63453      1/25/22  ['Kevis-Kokitsi Maninis', 'Stefan Popov', 'Mat...   \n",
       "72438     11/10/22  ['Santosh Kumar Yadav', 'Esha Pahwa', 'Achlesh...   \n",
       "63231       5/6/21  ['Felix Wimbauer', 'Nan Yang', 'Lukas von Stum...   \n",
       "54121      7/29/18  ['Tianshui Chen', 'Liang Lin', 'Xian Wu', 'Non...   \n",
       "71292       7/5/22  ['Yuheng Lu', 'Chenfeng Xu', 'Xiaobao Wei', 'X...   \n",
       "69111      2/24/21  ['Jianzhun Shao', 'Yuhang Jiang', 'Gu Wang', '...   \n",
       "81178      4/19/19  ['Honglin Chen', 'Hao Li', 'Alexander Song', '...   \n",
       "69564      7/25/22  ['Zeyu Hu', 'Xuyang Bai', 'Jiaxiang Shang', 'R...   \n",
       "\n",
       "                  first_author  \\\n",
       "69011              'Yiming Xu'   \n",
       "57403                'Chen Ma'   \n",
       "63453  'Kevis-Kokitsi Maninis'   \n",
       "72438    'Santosh Kumar Yadav'   \n",
       "63231         'Felix Wimbauer'   \n",
       "54121          'Tianshui Chen'   \n",
       "71292              'Yuheng Lu'   \n",
       "69111          'Jianzhun Shao'   \n",
       "81178           'Honglin Chen'   \n",
       "69564                'Zeyu Hu'   \n",
       "\n",
       "                                                 summary  summary_word_count  \\\n",
       "69011  Multi-person pose estimation is a fundamental ...                 212   \n",
       "57403  Detecting action units (AUs) on human faces is...                 245   \n",
       "63453  We address the task of aligning CAD models to ...                 154   \n",
       "72438  Drone-camera based human activity recognition ...                 231   \n",
       "63231  In this paper, we propose MonoRec, a semi-supe...                 175   \n",
       "54121  To avoid the exhaustive search over locations ...                 183   \n",
       "71292  Current point-cloud detection methods have dif...                 227   \n",
       "69111  6D pose estimation from a single RGB image is ...                 131   \n",
       "81178  Body-worn cameras are now commonly used for lo...                 150   \n",
       "69564  In recent years, sparse voxel-based methods ha...                 193   \n",
       "\n",
       "       cluster_id  \n",
       "69011          15  \n",
       "57403          15  \n",
       "63453          15  \n",
       "72438          15  \n",
       "63231          15  \n",
       "54121          15  \n",
       "71292          15  \n",
       "69111          15  \n",
       "81178          15  \n",
       "69564          15  "
      ],
      "text/html": [
       "<div>\n",
       "<style scoped>\n",
       "    .dataframe tbody tr th:only-of-type {\n",
       "        vertical-align: middle;\n",
       "    }\n",
       "\n",
       "    .dataframe tbody tr th {\n",
       "        vertical-align: top;\n",
       "    }\n",
       "\n",
       "    .dataframe thead th {\n",
       "        text-align: right;\n",
       "    }\n",
       "</style>\n",
       "<table border=\"1\" class=\"dataframe\">\n",
       "  <thead>\n",
       "    <tr style=\"text-align: right;\">\n",
       "      <th></th>\n",
       "      <th>id</th>\n",
       "      <th>title</th>\n",
       "      <th>category</th>\n",
       "      <th>category_code</th>\n",
       "      <th>published_date</th>\n",
       "      <th>updated_date</th>\n",
       "      <th>authors</th>\n",
       "      <th>first_author</th>\n",
       "      <th>summary</th>\n",
       "      <th>summary_word_count</th>\n",
       "      <th>cluster_id</th>\n",
       "    </tr>\n",
       "  </thead>\n",
       "  <tbody>\n",
       "    <tr>\n",
       "      <th>69011</th>\n",
       "      <td>abs-2102.07318v4</td>\n",
       "      <td>A Global to Local Double Embedding Method for ...</td>\n",
       "      <td>Computer Vision and Pattern Recognition</td>\n",
       "      <td>cs.CV</td>\n",
       "      <td>2/15/21</td>\n",
       "      <td>10/17/21</td>\n",
       "      <td>['Yiming Xu', 'Jiaxin Li', 'Yiheng Peng', 'Yan...</td>\n",
       "      <td>'Yiming Xu'</td>\n",
       "      <td>Multi-person pose estimation is a fundamental ...</td>\n",
       "      <td>212</td>\n",
       "      <td>15</td>\n",
       "    </tr>\n",
       "    <tr>\n",
       "      <th>57403</th>\n",
       "      <td>abs-1812.05788v2</td>\n",
       "      <td>AU R-CNN: Encoding Expert Prior Knowledge into...</td>\n",
       "      <td>Computer Vision and Pattern Recognition</td>\n",
       "      <td>cs.CV</td>\n",
       "      <td>12/14/18</td>\n",
       "      <td>8/25/19</td>\n",
       "      <td>['Chen Ma', 'Li Chen', 'Junhai Yong']</td>\n",
       "      <td>'Chen Ma'</td>\n",
       "      <td>Detecting action units (AUs) on human faces is...</td>\n",
       "      <td>245</td>\n",
       "      <td>15</td>\n",
       "    </tr>\n",
       "    <tr>\n",
       "      <th>63453</th>\n",
       "      <td>abs-2012.04641v2</td>\n",
       "      <td>Vid2CAD: CAD Model Alignment using Multi-View ...</td>\n",
       "      <td>Computer Vision and Pattern Recognition</td>\n",
       "      <td>cs.CV</td>\n",
       "      <td>12/8/20</td>\n",
       "      <td>1/25/22</td>\n",
       "      <td>['Kevis-Kokitsi Maninis', 'Stefan Popov', 'Mat...</td>\n",
       "      <td>'Kevis-Kokitsi Maninis'</td>\n",
       "      <td>We address the task of aligning CAD models to ...</td>\n",
       "      <td>154</td>\n",
       "      <td>15</td>\n",
       "    </tr>\n",
       "    <tr>\n",
       "      <th>72438</th>\n",
       "      <td>abs-2211.05531v1</td>\n",
       "      <td>SWTF: Sparse Weighted Temporal Fusion for Dron...</td>\n",
       "      <td>Computer Vision and Pattern Recognition</td>\n",
       "      <td>cs.CV</td>\n",
       "      <td>11/10/22</td>\n",
       "      <td>11/10/22</td>\n",
       "      <td>['Santosh Kumar Yadav', 'Esha Pahwa', 'Achlesh...</td>\n",
       "      <td>'Santosh Kumar Yadav'</td>\n",
       "      <td>Drone-camera based human activity recognition ...</td>\n",
       "      <td>231</td>\n",
       "      <td>15</td>\n",
       "    </tr>\n",
       "    <tr>\n",
       "      <th>63231</th>\n",
       "      <td>abs-2011.11814v3</td>\n",
       "      <td>MonoRec: Semi-Supervised Dense Reconstruction ...</td>\n",
       "      <td>Computer Vision and Pattern Recognition</td>\n",
       "      <td>cs.CV</td>\n",
       "      <td>11/24/20</td>\n",
       "      <td>5/6/21</td>\n",
       "      <td>['Felix Wimbauer', 'Nan Yang', 'Lukas von Stum...</td>\n",
       "      <td>'Felix Wimbauer'</td>\n",
       "      <td>In this paper, we propose MonoRec, a semi-supe...</td>\n",
       "      <td>175</td>\n",
       "      <td>15</td>\n",
       "    </tr>\n",
       "    <tr>\n",
       "      <th>54121</th>\n",
       "      <td>abs-1612.01057v4</td>\n",
       "      <td>Learning to Segment Object Candidates via Recu...</td>\n",
       "      <td>Computer Vision and Pattern Recognition</td>\n",
       "      <td>cs.CV</td>\n",
       "      <td>12/4/16</td>\n",
       "      <td>7/29/18</td>\n",
       "      <td>['Tianshui Chen', 'Liang Lin', 'Xian Wu', 'Non...</td>\n",
       "      <td>'Tianshui Chen'</td>\n",
       "      <td>To avoid the exhaustive search over locations ...</td>\n",
       "      <td>183</td>\n",
       "      <td>15</td>\n",
       "    </tr>\n",
       "    <tr>\n",
       "      <th>71292</th>\n",
       "      <td>abs-2207.01987v1</td>\n",
       "      <td>Open-Vocabulary 3D Detection via Image-level C...</td>\n",
       "      <td>Computer Vision and Pattern Recognition</td>\n",
       "      <td>cs.CV</td>\n",
       "      <td>7/5/22</td>\n",
       "      <td>7/5/22</td>\n",
       "      <td>['Yuheng Lu', 'Chenfeng Xu', 'Xiaobao Wei', 'X...</td>\n",
       "      <td>'Yuheng Lu'</td>\n",
       "      <td>Current point-cloud detection methods have dif...</td>\n",
       "      <td>227</td>\n",
       "      <td>15</td>\n",
       "    </tr>\n",
       "    <tr>\n",
       "      <th>69111</th>\n",
       "      <td>abs-2102.12096v1</td>\n",
       "      <td>PFRL: Pose-Free Reinforcement Learning for 6D ...</td>\n",
       "      <td>Computer Vision and Pattern Recognition</td>\n",
       "      <td>cs.CV</td>\n",
       "      <td>2/24/21</td>\n",
       "      <td>2/24/21</td>\n",
       "      <td>['Jianzhun Shao', 'Yuhang Jiang', 'Gu Wang', '...</td>\n",
       "      <td>'Jianzhun Shao'</td>\n",
       "      <td>6D pose estimation from a single RGB image is ...</td>\n",
       "      <td>131</td>\n",
       "      <td>15</td>\n",
       "    </tr>\n",
       "    <tr>\n",
       "      <th>81178</th>\n",
       "      <td>abs-1904.09062v1</td>\n",
       "      <td>Semi-Supervised First-Person Activity Recognit...</td>\n",
       "      <td>Image and Video Processing</td>\n",
       "      <td>eess.IV</td>\n",
       "      <td>4/19/19</td>\n",
       "      <td>4/19/19</td>\n",
       "      <td>['Honglin Chen', 'Hao Li', 'Alexander Song', '...</td>\n",
       "      <td>'Honglin Chen'</td>\n",
       "      <td>Body-worn cameras are now commonly used for lo...</td>\n",
       "      <td>150</td>\n",
       "      <td>15</td>\n",
       "    </tr>\n",
       "    <tr>\n",
       "      <th>69564</th>\n",
       "      <td>abs-2107.13824v2</td>\n",
       "      <td>VMNet: Voxel-Mesh Network for Geodesic-Aware 3...</td>\n",
       "      <td>Computer Vision and Pattern Recognition</td>\n",
       "      <td>cs.CV</td>\n",
       "      <td>7/29/21</td>\n",
       "      <td>7/25/22</td>\n",
       "      <td>['Zeyu Hu', 'Xuyang Bai', 'Jiaxiang Shang', 'R...</td>\n",
       "      <td>'Zeyu Hu'</td>\n",
       "      <td>In recent years, sparse voxel-based methods ha...</td>\n",
       "      <td>193</td>\n",
       "      <td>15</td>\n",
       "    </tr>\n",
       "  </tbody>\n",
       "</table>\n",
       "</div>"
      ]
     },
     "execution_count": 19,
     "metadata": {},
     "output_type": "execute_result"
    }
   ],
   "execution_count": 19
  },
  {
   "metadata": {
    "ExecuteTime": {
     "end_time": "2025-05-04T09:13:48.879987Z",
     "start_time": "2025-05-04T09:13:48.874146Z"
    }
   },
   "cell_type": "code",
   "source": [
    "counts = df['cluster_id'].value_counts().sort_index()\n",
    "counts"
   ],
   "id": "b0221452ddaf5d98",
   "outputs": [
    {
     "data": {
      "text/plain": [
       "cluster_id\n",
       "0      141\n",
       "1     1745\n",
       "2      442\n",
       "3      220\n",
       "4      848\n",
       "5      192\n",
       "6     1080\n",
       "7      314\n",
       "8      129\n",
       "9      840\n",
       "10     119\n",
       "11     292\n",
       "12     191\n",
       "13     418\n",
       "14     581\n",
       "15     636\n",
       "16      74\n",
       "17     787\n",
       "18     498\n",
       "19     453\n",
       "Name: count, dtype: int64"
      ]
     },
     "execution_count": 18,
     "metadata": {},
     "output_type": "execute_result"
    }
   ],
   "execution_count": 18
  },
  {
   "metadata": {},
   "cell_type": "code",
   "outputs": [],
   "execution_count": null,
   "source": "",
   "id": "8656972f8643aaf1"
  }
 ],
 "metadata": {
  "kernelspec": {
   "display_name": "Python 3",
   "language": "python",
   "name": "python3"
  },
  "language_info": {
   "codemirror_mode": {
    "name": "ipython",
    "version": 2
   },
   "file_extension": ".py",
   "mimetype": "text/x-python",
   "name": "python",
   "nbconvert_exporter": "python",
   "pygments_lexer": "ipython2",
   "version": "2.7.6"
  }
 },
 "nbformat": 4,
 "nbformat_minor": 5
}
