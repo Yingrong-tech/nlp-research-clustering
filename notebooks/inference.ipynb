{
 "cells": [
  {
   "cell_type": "code",
   "execution_count": 1,
   "id": "initial_id",
   "metadata": {
    "ExecuteTime": {
     "end_time": "2025-05-13T11:45:06.557167Z",
     "start_time": "2025-05-13T11:45:06.554354Z"
    },
    "collapsed": true
   },
   "outputs": [],
   "source": [
    "import pandas as pd\n",
    "import pickle"
   ]
  },
  {
   "cell_type": "code",
   "execution_count": 2,
   "id": "d0b69fd37341b107",
   "metadata": {
    "ExecuteTime": {
     "end_time": "2025-05-13T11:45:06.562699Z",
     "start_time": "2025-05-13T11:45:06.559287Z"
    }
   },
   "outputs": [],
   "source": [
    "class Config:\n",
    "    SEED: int = 42\n",
    "    SAMPLE: int = 10000\n",
    "    # SAMPLE = None\n",
    "    BASE_DATA_PATH: str = '../data/'\n",
    "    BASE_OUTPUT_PATH: str = '../output/'"
   ]
  },
  {
   "cell_type": "code",
   "execution_count": 3,
   "id": "e9072d5c64f09a03",
   "metadata": {
    "ExecuteTime": {
     "end_time": "2025-05-13T11:45:08.510861Z",
     "start_time": "2025-05-13T11:45:06.565370Z"
    }
   },
   "outputs": [],
   "source": [
    "file_path = f'{Config.BASE_DATA_PATH}/arXiv_scientific dataset.csv'\n",
    "\n",
    "raw_df = pd.read_csv(file_path)"
   ]
  },
  {
   "cell_type": "code",
   "execution_count": 4,
   "id": "408f105634cee41c",
   "metadata": {
    "ExecuteTime": {
     "end_time": "2025-05-13T11:45:08.527634Z",
     "start_time": "2025-05-13T11:45:08.511678Z"
    }
   },
   "outputs": [
    {
     "data": {
      "text/html": [
       "<div>\n",
       "<style scoped>\n",
       "    .dataframe tbody tr th:only-of-type {\n",
       "        vertical-align: middle;\n",
       "    }\n",
       "\n",
       "    .dataframe tbody tr th {\n",
       "        vertical-align: top;\n",
       "    }\n",
       "\n",
       "    .dataframe thead th {\n",
       "        text-align: right;\n",
       "    }\n",
       "</style>\n",
       "<table border=\"1\" class=\"dataframe\">\n",
       "  <thead>\n",
       "    <tr style=\"text-align: right;\">\n",
       "      <th></th>\n",
       "      <th>summary_word_count</th>\n",
       "    </tr>\n",
       "  </thead>\n",
       "  <tbody>\n",
       "    <tr>\n",
       "      <th>count</th>\n",
       "      <td>136238.000000</td>\n",
       "    </tr>\n",
       "    <tr>\n",
       "      <th>mean</th>\n",
       "      <td>162.386830</td>\n",
       "    </tr>\n",
       "    <tr>\n",
       "      <th>std</th>\n",
       "      <td>49.374474</td>\n",
       "    </tr>\n",
       "    <tr>\n",
       "      <th>min</th>\n",
       "      <td>1.000000</td>\n",
       "    </tr>\n",
       "    <tr>\n",
       "      <th>25%</th>\n",
       "      <td>128.000000</td>\n",
       "    </tr>\n",
       "    <tr>\n",
       "      <th>50%</th>\n",
       "      <td>160.000000</td>\n",
       "    </tr>\n",
       "    <tr>\n",
       "      <th>75%</th>\n",
       "      <td>195.000000</td>\n",
       "    </tr>\n",
       "    <tr>\n",
       "      <th>max</th>\n",
       "      <td>552.000000</td>\n",
       "    </tr>\n",
       "  </tbody>\n",
       "</table>\n",
       "</div>"
      ],
      "text/plain": [
       "       summary_word_count\n",
       "count       136238.000000\n",
       "mean           162.386830\n",
       "std             49.374474\n",
       "min              1.000000\n",
       "25%            128.000000\n",
       "50%            160.000000\n",
       "75%            195.000000\n",
       "max            552.000000"
      ]
     },
     "execution_count": 4,
     "metadata": {},
     "output_type": "execute_result"
    }
   ],
   "source": [
    "raw_df.describe()"
   ]
  },
  {
   "cell_type": "code",
   "execution_count": 5,
   "id": "9d93d2435c0a044e",
   "metadata": {
    "ExecuteTime": {
     "end_time": "2025-05-13T11:45:08.567619Z",
     "start_time": "2025-05-13T11:45:08.529369Z"
    }
   },
   "outputs": [],
   "source": [
    "if Config.SAMPLE is not None:\n",
    "    df = raw_df.sample(Config.SAMPLE, random_state=Config.SEED)\n",
    "    del raw_df\n",
    "else:\n",
    "    df = raw_df"
   ]
  },
  {
   "cell_type": "code",
   "execution_count": 6,
   "id": "1a041a1a3d389d95",
   "metadata": {
    "ExecuteTime": {
     "end_time": "2025-05-13T11:45:08.571277Z",
     "start_time": "2025-05-13T11:45:08.568505Z"
    }
   },
   "outputs": [
    {
     "data": {
      "text/plain": [
       "10000"
      ]
     },
     "execution_count": 6,
     "metadata": {},
     "output_type": "execute_result"
    }
   ],
   "source": [
    "len(df)"
   ]
  },
  {
   "cell_type": "code",
   "execution_count": 7,
   "id": "a31fb1bd0166ea6b",
   "metadata": {
    "ExecuteTime": {
     "end_time": "2025-05-13T11:45:11.049484Z",
     "start_time": "2025-05-13T11:45:10.726341Z"
    }
   },
   "outputs": [
    {
     "ename": "FileNotFoundError",
     "evalue": "[Errno 2] No such file or directory: '../output//X_embedded.p'",
     "output_type": "error",
     "traceback": [
      "\u001b[1;31m---------------------------------------------------------------------------\u001b[0m",
      "\u001b[1;31mFileNotFoundError\u001b[0m                         Traceback (most recent call last)",
      "Cell \u001b[1;32mIn[7], line 4\u001b[0m\n\u001b[0;32m      1\u001b[0m tsne_path   \u001b[38;5;241m=\u001b[39m \u001b[38;5;124mf\u001b[39m\u001b[38;5;124m\"\u001b[39m\u001b[38;5;132;01m{\u001b[39;00mConfig\u001b[38;5;241m.\u001b[39mBASE_OUTPUT_PATH\u001b[38;5;132;01m}\u001b[39;00m\u001b[38;5;124m/X_embedded.p\u001b[39m\u001b[38;5;124m\"\u001b[39m\n\u001b[0;32m      2\u001b[0m labels_path \u001b[38;5;241m=\u001b[39m \u001b[38;5;124mf\u001b[39m\u001b[38;5;124m\"\u001b[39m\u001b[38;5;132;01m{\u001b[39;00mConfig\u001b[38;5;241m.\u001b[39mBASE_OUTPUT_PATH\u001b[38;5;132;01m}\u001b[39;00m\u001b[38;5;124m/y_pred.p\u001b[39m\u001b[38;5;124m\"\u001b[39m\n\u001b[1;32m----> 4\u001b[0m \u001b[38;5;28;01mwith\u001b[39;00m \u001b[38;5;28;43mopen\u001b[39;49m\u001b[43m(\u001b[49m\u001b[43mtsne_path\u001b[49m\u001b[43m,\u001b[49m\u001b[43m \u001b[49m\u001b[38;5;124;43m\"\u001b[39;49m\u001b[38;5;124;43mrb\u001b[39;49m\u001b[38;5;124;43m\"\u001b[39;49m\u001b[43m)\u001b[49m \u001b[38;5;28;01mas\u001b[39;00m f:\n\u001b[0;32m      5\u001b[0m     X_embedded \u001b[38;5;241m=\u001b[39m pickle\u001b[38;5;241m.\u001b[39mload(f)\n\u001b[0;32m      7\u001b[0m \u001b[38;5;28;01mwith\u001b[39;00m \u001b[38;5;28mopen\u001b[39m(labels_path, \u001b[38;5;124m\"\u001b[39m\u001b[38;5;124mrb\u001b[39m\u001b[38;5;124m\"\u001b[39m) \u001b[38;5;28;01mas\u001b[39;00m f:\n",
      "File \u001b[1;32m~\\AppData\\Roaming\\Python\\Python310\\site-packages\\IPython\\core\\interactiveshell.py:324\u001b[0m, in \u001b[0;36m_modified_open\u001b[1;34m(file, *args, **kwargs)\u001b[0m\n\u001b[0;32m    317\u001b[0m \u001b[38;5;28;01mif\u001b[39;00m file \u001b[38;5;129;01min\u001b[39;00m {\u001b[38;5;241m0\u001b[39m, \u001b[38;5;241m1\u001b[39m, \u001b[38;5;241m2\u001b[39m}:\n\u001b[0;32m    318\u001b[0m     \u001b[38;5;28;01mraise\u001b[39;00m \u001b[38;5;167;01mValueError\u001b[39;00m(\n\u001b[0;32m    319\u001b[0m         \u001b[38;5;124mf\u001b[39m\u001b[38;5;124m\"\u001b[39m\u001b[38;5;124mIPython won\u001b[39m\u001b[38;5;124m'\u001b[39m\u001b[38;5;124mt let you open fd=\u001b[39m\u001b[38;5;132;01m{\u001b[39;00mfile\u001b[38;5;132;01m}\u001b[39;00m\u001b[38;5;124m by default \u001b[39m\u001b[38;5;124m\"\u001b[39m\n\u001b[0;32m    320\u001b[0m         \u001b[38;5;124m\"\u001b[39m\u001b[38;5;124mas it is likely to crash IPython. If you know what you are doing, \u001b[39m\u001b[38;5;124m\"\u001b[39m\n\u001b[0;32m    321\u001b[0m         \u001b[38;5;124m\"\u001b[39m\u001b[38;5;124myou can use builtins\u001b[39m\u001b[38;5;124m'\u001b[39m\u001b[38;5;124m open.\u001b[39m\u001b[38;5;124m\"\u001b[39m\n\u001b[0;32m    322\u001b[0m     )\n\u001b[1;32m--> 324\u001b[0m \u001b[38;5;28;01mreturn\u001b[39;00m io_open(file, \u001b[38;5;241m*\u001b[39margs, \u001b[38;5;241m*\u001b[39m\u001b[38;5;241m*\u001b[39mkwargs)\n",
      "\u001b[1;31mFileNotFoundError\u001b[0m: [Errno 2] No such file or directory: '../output//X_embedded.p'"
     ]
    }
   ],
   "source": [
    "tsne_path   = f\"{Config.BASE_OUTPUT_PATH}/X_embedded.p\"\n",
    "labels_path = f\"{Config.BASE_OUTPUT_PATH}/y_pred.p\"\n",
    "\n",
    "with open(tsne_path, \"rb\") as f:\n",
    "    X_embedded = pickle.load(f)\n",
    "\n",
    "with open(labels_path, \"rb\") as f:\n",
    "    y_pred = pickle.load(f)\n",
    "    \n",
    "\n",
    "with open(f'{Config.BASE_OUTPUT_PATH}/kmeans_model.pkl', 'rb') as f:\n",
    "    kmeans = pickle.load(f)\n",
    "\n",
    "print(X_embedded.shape) \n",
    "print(len(y_pred))"
   ]
  },
  {
   "cell_type": "code",
   "execution_count": null,
   "id": "e90f5e7743aeee55",
   "metadata": {
    "ExecuteTime": {
     "end_time": "2025-05-13T11:45:11.752933Z",
     "start_time": "2025-05-13T11:45:11.748531Z"
    }
   },
   "outputs": [],
   "source": [
    "clustered = pd.DataFrame({\n",
    "    \"x\": X_embedded[:,0],\n",
    "    \"y\": X_embedded[:,1],\n",
    "    \"cluster\": y_pred\n",
    "})"
   ]
  },
  {
   "cell_type": "code",
   "execution_count": null,
   "id": "1edee6e370642d2e",
   "metadata": {
    "ExecuteTime": {
     "end_time": "2025-05-13T11:45:13.113439Z",
     "start_time": "2025-05-13T11:45:13.108855Z"
    }
   },
   "outputs": [
    {
     "data": {
      "text/html": [
       "<div>\n",
       "<style scoped>\n",
       "    .dataframe tbody tr th:only-of-type {\n",
       "        vertical-align: middle;\n",
       "    }\n",
       "\n",
       "    .dataframe tbody tr th {\n",
       "        vertical-align: top;\n",
       "    }\n",
       "\n",
       "    .dataframe thead th {\n",
       "        text-align: right;\n",
       "    }\n",
       "</style>\n",
       "<table border=\"1\" class=\"dataframe\">\n",
       "  <thead>\n",
       "    <tr style=\"text-align: right;\">\n",
       "      <th></th>\n",
       "      <th>x</th>\n",
       "      <th>y</th>\n",
       "      <th>cluster</th>\n",
       "    </tr>\n",
       "  </thead>\n",
       "  <tbody>\n",
       "    <tr>\n",
       "      <th>0</th>\n",
       "      <td>1.336798</td>\n",
       "      <td>17.005232</td>\n",
       "      <td>1</td>\n",
       "    </tr>\n",
       "    <tr>\n",
       "      <th>1</th>\n",
       "      <td>-18.846933</td>\n",
       "      <td>-40.353432</td>\n",
       "      <td>1</td>\n",
       "    </tr>\n",
       "    <tr>\n",
       "      <th>2</th>\n",
       "      <td>31.002348</td>\n",
       "      <td>-0.271557</td>\n",
       "      <td>13</td>\n",
       "    </tr>\n",
       "    <tr>\n",
       "      <th>3</th>\n",
       "      <td>26.130459</td>\n",
       "      <td>-46.574505</td>\n",
       "      <td>15</td>\n",
       "    </tr>\n",
       "    <tr>\n",
       "      <th>4</th>\n",
       "      <td>40.307377</td>\n",
       "      <td>-40.533516</td>\n",
       "      <td>15</td>\n",
       "    </tr>\n",
       "    <tr>\n",
       "      <th>5</th>\n",
       "      <td>22.725389</td>\n",
       "      <td>-27.248379</td>\n",
       "      <td>14</td>\n",
       "    </tr>\n",
       "    <tr>\n",
       "      <th>6</th>\n",
       "      <td>-13.936029</td>\n",
       "      <td>2.354316</td>\n",
       "      <td>6</td>\n",
       "    </tr>\n",
       "    <tr>\n",
       "      <th>7</th>\n",
       "      <td>50.105335</td>\n",
       "      <td>-7.922379</td>\n",
       "      <td>7</td>\n",
       "    </tr>\n",
       "    <tr>\n",
       "      <th>8</th>\n",
       "      <td>13.077339</td>\n",
       "      <td>19.841257</td>\n",
       "      <td>1</td>\n",
       "    </tr>\n",
       "    <tr>\n",
       "      <th>9</th>\n",
       "      <td>19.409483</td>\n",
       "      <td>-45.285198</td>\n",
       "      <td>15</td>\n",
       "    </tr>\n",
       "  </tbody>\n",
       "</table>\n",
       "</div>"
      ],
      "text/plain": [
       "           x          y  cluster\n",
       "0   1.336798  17.005232        1\n",
       "1 -18.846933 -40.353432        1\n",
       "2  31.002348  -0.271557       13\n",
       "3  26.130459 -46.574505       15\n",
       "4  40.307377 -40.533516       15\n",
       "5  22.725389 -27.248379       14\n",
       "6 -13.936029   2.354316        6\n",
       "7  50.105335  -7.922379        7\n",
       "8  13.077339  19.841257        1\n",
       "9  19.409483 -45.285198       15"
      ]
     },
     "execution_count": 9,
     "metadata": {},
     "output_type": "execute_result"
    }
   ],
   "source": [
    "clustered.head(10)"
   ]
  },
  {
   "cell_type": "code",
   "execution_count": null,
   "id": "ff5a58267f8e4279",
   "metadata": {
    "ExecuteTime": {
     "end_time": "2025-05-13T11:45:13.858500Z",
     "start_time": "2025-05-13T11:45:13.856635Z"
    }
   },
   "outputs": [],
   "source": [
    "# y_pred = kmeans.fit_predict(X_reduced)"
   ]
  },
  {
   "cell_type": "code",
   "execution_count": null,
   "id": "7b148d247016eedb",
   "metadata": {
    "ExecuteTime": {
     "end_time": "2025-05-13T11:45:52.575291Z",
     "start_time": "2025-05-13T11:45:52.534573Z"
    }
   },
   "outputs": [],
   "source": [
    "df['cluster_id'] = y_pred\n",
    "df['x'] = X_embedded[:,0]\n",
    "df['y'] = X_embedded[:,1]"
   ]
  },
  {
   "cell_type": "code",
   "execution_count": null,
   "id": "42d04cb7ee46ed3a",
   "metadata": {
    "ExecuteTime": {
     "end_time": "2025-05-13T11:46:08.626894Z",
     "start_time": "2025-05-13T11:46:08.610367Z"
    }
   },
   "outputs": [
    {
     "data": {
      "text/html": [
       "<div>\n",
       "<style scoped>\n",
       "    .dataframe tbody tr th:only-of-type {\n",
       "        vertical-align: middle;\n",
       "    }\n",
       "\n",
       "    .dataframe tbody tr th {\n",
       "        vertical-align: top;\n",
       "    }\n",
       "\n",
       "    .dataframe thead th {\n",
       "        text-align: right;\n",
       "    }\n",
       "</style>\n",
       "<table border=\"1\" class=\"dataframe\">\n",
       "  <thead>\n",
       "    <tr style=\"text-align: right;\">\n",
       "      <th></th>\n",
       "      <th>id</th>\n",
       "      <th>title</th>\n",
       "      <th>category</th>\n",
       "      <th>category_code</th>\n",
       "      <th>published_date</th>\n",
       "      <th>updated_date</th>\n",
       "      <th>authors</th>\n",
       "      <th>first_author</th>\n",
       "      <th>summary</th>\n",
       "      <th>summary_word_count</th>\n",
       "      <th>cluster_id</th>\n",
       "      <th>x</th>\n",
       "      <th>y</th>\n",
       "    </tr>\n",
       "  </thead>\n",
       "  <tbody>\n",
       "    <tr>\n",
       "      <th>78358</th>\n",
       "      <td>abs-1704.04688v1</td>\n",
       "      <td>Machine Learning and the Future of Realism</td>\n",
       "      <td>Machine Learning (Statistics)</td>\n",
       "      <td>stat.ML</td>\n",
       "      <td>4/15/17</td>\n",
       "      <td>4/15/17</td>\n",
       "      <td>['Giles Hooker', 'Cliff Hooker']</td>\n",
       "      <td>'Giles Hooker'</td>\n",
       "      <td>The preceding three decades have seen the emer...</td>\n",
       "      <td>106</td>\n",
       "      <td>1</td>\n",
       "      <td>1.336798</td>\n",
       "      <td>17.005232</td>\n",
       "    </tr>\n",
       "    <tr>\n",
       "      <th>37291</th>\n",
       "      <td>abs-2405.16697v1</td>\n",
       "      <td>CNN Autoencoder Resizer: A Power-Efficient LoS...</td>\n",
       "      <td>Machine Learning</td>\n",
       "      <td>cs.LG</td>\n",
       "      <td>5/26/24</td>\n",
       "      <td>5/26/24</td>\n",
       "      <td>['Azim Akhtarshenas', 'Navid Ayoobi', 'David L...</td>\n",
       "      <td>'Azim Akhtarshenas'</td>\n",
       "      <td>Optimizing the design, performance, and resour...</td>\n",
       "      <td>143</td>\n",
       "      <td>1</td>\n",
       "      <td>-18.846933</td>\n",
       "      <td>-40.353432</td>\n",
       "    </tr>\n",
       "    <tr>\n",
       "      <th>132977</th>\n",
       "      <td>abs-2109.03754v2</td>\n",
       "      <td>Memory and Knowledge Augmented Language Models...</td>\n",
       "      <td>Computation and Language (Natural Language Pro...</td>\n",
       "      <td>cs.CL</td>\n",
       "      <td>9/8/21</td>\n",
       "      <td>9/14/21</td>\n",
       "      <td>['David Wilmot', 'Frank Keller']</td>\n",
       "      <td>'David Wilmot'</td>\n",
       "      <td>Measuring event salience is essential in the u...</td>\n",
       "      <td>115</td>\n",
       "      <td>13</td>\n",
       "      <td>31.002348</td>\n",
       "      <td>-0.271557</td>\n",
       "    </tr>\n",
       "    <tr>\n",
       "      <th>69011</th>\n",
       "      <td>abs-2102.07318v4</td>\n",
       "      <td>A Global to Local Double Embedding Method for ...</td>\n",
       "      <td>Computer Vision and Pattern Recognition</td>\n",
       "      <td>cs.CV</td>\n",
       "      <td>2/15/21</td>\n",
       "      <td>10/17/21</td>\n",
       "      <td>['Yiming Xu', 'Jiaxin Li', 'Yiheng Peng', 'Yan...</td>\n",
       "      <td>'Yiming Xu'</td>\n",
       "      <td>Multi-person pose estimation is a fundamental ...</td>\n",
       "      <td>212</td>\n",
       "      <td>15</td>\n",
       "      <td>26.130459</td>\n",
       "      <td>-46.574505</td>\n",
       "    </tr>\n",
       "    <tr>\n",
       "      <th>57403</th>\n",
       "      <td>abs-1812.05788v2</td>\n",
       "      <td>AU R-CNN: Encoding Expert Prior Knowledge into...</td>\n",
       "      <td>Computer Vision and Pattern Recognition</td>\n",
       "      <td>cs.CV</td>\n",
       "      <td>12/14/18</td>\n",
       "      <td>8/25/19</td>\n",
       "      <td>['Chen Ma', 'Li Chen', 'Junhai Yong']</td>\n",
       "      <td>'Chen Ma'</td>\n",
       "      <td>Detecting action units (AUs) on human faces is...</td>\n",
       "      <td>245</td>\n",
       "      <td>15</td>\n",
       "      <td>40.307377</td>\n",
       "      <td>-40.533516</td>\n",
       "    </tr>\n",
       "  </tbody>\n",
       "</table>\n",
       "</div>"
      ],
      "text/plain": [
       "                      id                                              title  \\\n",
       "78358   abs-1704.04688v1         Machine Learning and the Future of Realism   \n",
       "37291   abs-2405.16697v1  CNN Autoencoder Resizer: A Power-Efficient LoS...   \n",
       "132977  abs-2109.03754v2  Memory and Knowledge Augmented Language Models...   \n",
       "69011   abs-2102.07318v4  A Global to Local Double Embedding Method for ...   \n",
       "57403   abs-1812.05788v2  AU R-CNN: Encoding Expert Prior Knowledge into...   \n",
       "\n",
       "                                                 category category_code  \\\n",
       "78358                       Machine Learning (Statistics)       stat.ML   \n",
       "37291                                    Machine Learning         cs.LG   \n",
       "132977  Computation and Language (Natural Language Pro...         cs.CL   \n",
       "69011             Computer Vision and Pattern Recognition         cs.CV   \n",
       "57403             Computer Vision and Pattern Recognition         cs.CV   \n",
       "\n",
       "       published_date updated_date  \\\n",
       "78358         4/15/17      4/15/17   \n",
       "37291         5/26/24      5/26/24   \n",
       "132977         9/8/21      9/14/21   \n",
       "69011         2/15/21     10/17/21   \n",
       "57403        12/14/18      8/25/19   \n",
       "\n",
       "                                                  authors  \\\n",
       "78358                    ['Giles Hooker', 'Cliff Hooker']   \n",
       "37291   ['Azim Akhtarshenas', 'Navid Ayoobi', 'David L...   \n",
       "132977                   ['David Wilmot', 'Frank Keller']   \n",
       "69011   ['Yiming Xu', 'Jiaxin Li', 'Yiheng Peng', 'Yan...   \n",
       "57403               ['Chen Ma', 'Li Chen', 'Junhai Yong']   \n",
       "\n",
       "               first_author  \\\n",
       "78358        'Giles Hooker'   \n",
       "37291   'Azim Akhtarshenas'   \n",
       "132977       'David Wilmot'   \n",
       "69011           'Yiming Xu'   \n",
       "57403             'Chen Ma'   \n",
       "\n",
       "                                                  summary  summary_word_count  \\\n",
       "78358   The preceding three decades have seen the emer...                 106   \n",
       "37291   Optimizing the design, performance, and resour...                 143   \n",
       "132977  Measuring event salience is essential in the u...                 115   \n",
       "69011   Multi-person pose estimation is a fundamental ...                 212   \n",
       "57403   Detecting action units (AUs) on human faces is...                 245   \n",
       "\n",
       "        cluster_id          x          y  \n",
       "78358            1   1.336798  17.005232  \n",
       "37291            1 -18.846933 -40.353432  \n",
       "132977          13  31.002348  -0.271557  \n",
       "69011           15  26.130459 -46.574505  \n",
       "57403           15  40.307377 -40.533516  "
      ]
     },
     "execution_count": 12,
     "metadata": {},
     "output_type": "execute_result"
    }
   ],
   "source": [
    "df.head(5)"
   ]
  },
  {
   "cell_type": "code",
   "execution_count": null,
   "id": "bfd52381f94b0981",
   "metadata": {
    "ExecuteTime": {
     "end_time": "2025-05-13T11:56:51.783622Z",
     "start_time": "2025-05-13T11:56:51.780097Z"
    }
   },
   "outputs": [
    {
     "data": {
      "text/plain": [
       "Index(['id', 'title', 'category', 'category_code', 'published_date',\n",
       "       'updated_date', 'authors', 'first_author', 'summary',\n",
       "       'summary_word_count', 'cluster_id', 'x', 'y'],\n",
       "      dtype='object')"
      ]
     },
     "execution_count": 14,
     "metadata": {},
     "output_type": "execute_result"
    }
   ],
   "source": [
    "df.columns"
   ]
  },
  {
   "cell_type": "code",
   "execution_count": null,
   "id": "6f311845c78971f0",
   "metadata": {
    "ExecuteTime": {
     "end_time": "2025-05-13T11:53:14.715065Z",
     "start_time": "2025-05-13T11:53:14.478444Z"
    }
   },
   "outputs": [],
   "source": [
    "df.to_csv(f'{Config.BASE_OUTPUT_PATH}/cluster_sample_10000_with_xy.csv')"
   ]
  },
  {
   "cell_type": "code",
   "execution_count": null,
   "id": "8b5f0a7fe7f20c72",
   "metadata": {
    "ExecuteTime": {
     "end_time": "2025-05-04T10:08:32.416878Z",
     "start_time": "2025-05-04T10:08:32.391687Z"
    }
   },
   "outputs": [],
   "source": [
    "cluster_15 = df.query(\"cluster_id == 15\")"
   ]
  },
  {
   "cell_type": "code",
   "execution_count": null,
   "id": "b0221452ddaf5d98",
   "metadata": {
    "ExecuteTime": {
     "end_time": "2025-05-04T09:13:48.879987Z",
     "start_time": "2025-05-04T09:13:48.874146Z"
    }
   },
   "outputs": [
    {
     "data": {
      "text/plain": [
       "cluster_id\n",
       "0      141\n",
       "1     1745\n",
       "2      442\n",
       "3      220\n",
       "4      848\n",
       "5      192\n",
       "6     1080\n",
       "7      314\n",
       "8      129\n",
       "9      840\n",
       "10     119\n",
       "11     292\n",
       "12     191\n",
       "13     418\n",
       "14     581\n",
       "15     636\n",
       "16      74\n",
       "17     787\n",
       "18     498\n",
       "19     453\n",
       "Name: count, dtype: int64"
      ]
     },
     "execution_count": 18,
     "metadata": {},
     "output_type": "execute_result"
    }
   ],
   "source": [
    "counts = df['cluster_id'].value_counts().sort_index()\n",
    "counts"
   ]
  },
  {
   "cell_type": "code",
   "execution_count": null,
   "id": "8656972f8643aaf1",
   "metadata": {
    "ExecuteTime": {
     "end_time": "2025-05-04T10:08:35.245367Z",
     "start_time": "2025-05-04T10:08:35.241167Z"
    }
   },
   "outputs": [
    {
     "data": {
      "text/plain": [
       "636"
      ]
     },
     "execution_count": 23,
     "metadata": {},
     "output_type": "execute_result"
    }
   ],
   "source": [
    "len(cluster_15)"
   ]
  },
  {
   "cell_type": "code",
   "execution_count": null,
   "id": "4e5a3f4e2bf64d4a",
   "metadata": {
    "ExecuteTime": {
     "end_time": "2025-05-04T10:10:42.987119Z",
     "start_time": "2025-05-04T10:10:42.895042Z"
    }
   },
   "outputs": [],
   "source": [
    "cluster_15.to_csv(f'{Config.BASE_OUTPUT_PATH}/cluster_15.csv')"
   ]
  },
  {
   "cell_type": "code",
   "execution_count": null,
   "id": "457613d30fd73589",
   "metadata": {
    "ExecuteTime": {
     "end_time": "2025-05-04T10:11:13.616337Z",
     "start_time": "2025-05-04T10:11:13.573541Z"
    }
   },
   "outputs": [],
   "source": [
    "reload_cluster_15 = pd.read_csv(f'{Config.BASE_OUTPUT_PATH}/cluster_15.csv')"
   ]
  },
  {
   "cell_type": "code",
   "execution_count": null,
   "id": "f1560c294bb44597",
   "metadata": {
    "ExecuteTime": {
     "end_time": "2025-05-04T10:11:17.858799Z",
     "start_time": "2025-05-04T10:11:17.842393Z"
    }
   },
   "outputs": [
    {
     "data": {
      "text/html": [
       "<div>\n",
       "<style scoped>\n",
       "    .dataframe tbody tr th:only-of-type {\n",
       "        vertical-align: middle;\n",
       "    }\n",
       "\n",
       "    .dataframe tbody tr th {\n",
       "        vertical-align: top;\n",
       "    }\n",
       "\n",
       "    .dataframe thead th {\n",
       "        text-align: right;\n",
       "    }\n",
       "</style>\n",
       "<table border=\"1\" class=\"dataframe\">\n",
       "  <thead>\n",
       "    <tr style=\"text-align: right;\">\n",
       "      <th></th>\n",
       "      <th>Unnamed: 0</th>\n",
       "      <th>id</th>\n",
       "      <th>title</th>\n",
       "      <th>category</th>\n",
       "      <th>category_code</th>\n",
       "      <th>published_date</th>\n",
       "      <th>updated_date</th>\n",
       "      <th>authors</th>\n",
       "      <th>first_author</th>\n",
       "      <th>summary</th>\n",
       "      <th>summary_word_count</th>\n",
       "      <th>cluster_id</th>\n",
       "    </tr>\n",
       "  </thead>\n",
       "  <tbody>\n",
       "    <tr>\n",
       "      <th>0</th>\n",
       "      <td>69011</td>\n",
       "      <td>abs-2102.07318v4</td>\n",
       "      <td>A Global to Local Double Embedding Method for ...</td>\n",
       "      <td>Computer Vision and Pattern Recognition</td>\n",
       "      <td>cs.CV</td>\n",
       "      <td>2/15/21</td>\n",
       "      <td>10/17/21</td>\n",
       "      <td>['Yiming Xu', 'Jiaxin Li', 'Yiheng Peng', 'Yan...</td>\n",
       "      <td>'Yiming Xu'</td>\n",
       "      <td>Multi-person pose estimation is a fundamental ...</td>\n",
       "      <td>212</td>\n",
       "      <td>15</td>\n",
       "    </tr>\n",
       "    <tr>\n",
       "      <th>1</th>\n",
       "      <td>57403</td>\n",
       "      <td>abs-1812.05788v2</td>\n",
       "      <td>AU R-CNN: Encoding Expert Prior Knowledge into...</td>\n",
       "      <td>Computer Vision and Pattern Recognition</td>\n",
       "      <td>cs.CV</td>\n",
       "      <td>12/14/18</td>\n",
       "      <td>8/25/19</td>\n",
       "      <td>['Chen Ma', 'Li Chen', 'Junhai Yong']</td>\n",
       "      <td>'Chen Ma'</td>\n",
       "      <td>Detecting action units (AUs) on human faces is...</td>\n",
       "      <td>245</td>\n",
       "      <td>15</td>\n",
       "    </tr>\n",
       "    <tr>\n",
       "      <th>2</th>\n",
       "      <td>63453</td>\n",
       "      <td>abs-2012.04641v2</td>\n",
       "      <td>Vid2CAD: CAD Model Alignment using Multi-View ...</td>\n",
       "      <td>Computer Vision and Pattern Recognition</td>\n",
       "      <td>cs.CV</td>\n",
       "      <td>12/8/20</td>\n",
       "      <td>1/25/22</td>\n",
       "      <td>['Kevis-Kokitsi Maninis', 'Stefan Popov', 'Mat...</td>\n",
       "      <td>'Kevis-Kokitsi Maninis'</td>\n",
       "      <td>We address the task of aligning CAD models to ...</td>\n",
       "      <td>154</td>\n",
       "      <td>15</td>\n",
       "    </tr>\n",
       "    <tr>\n",
       "      <th>3</th>\n",
       "      <td>72438</td>\n",
       "      <td>abs-2211.05531v1</td>\n",
       "      <td>SWTF: Sparse Weighted Temporal Fusion for Dron...</td>\n",
       "      <td>Computer Vision and Pattern Recognition</td>\n",
       "      <td>cs.CV</td>\n",
       "      <td>11/10/22</td>\n",
       "      <td>11/10/22</td>\n",
       "      <td>['Santosh Kumar Yadav', 'Esha Pahwa', 'Achlesh...</td>\n",
       "      <td>'Santosh Kumar Yadav'</td>\n",
       "      <td>Drone-camera based human activity recognition ...</td>\n",
       "      <td>231</td>\n",
       "      <td>15</td>\n",
       "    </tr>\n",
       "    <tr>\n",
       "      <th>4</th>\n",
       "      <td>63231</td>\n",
       "      <td>abs-2011.11814v3</td>\n",
       "      <td>MonoRec: Semi-Supervised Dense Reconstruction ...</td>\n",
       "      <td>Computer Vision and Pattern Recognition</td>\n",
       "      <td>cs.CV</td>\n",
       "      <td>11/24/20</td>\n",
       "      <td>5/6/21</td>\n",
       "      <td>['Felix Wimbauer', 'Nan Yang', 'Lukas von Stum...</td>\n",
       "      <td>'Felix Wimbauer'</td>\n",
       "      <td>In this paper, we propose MonoRec, a semi-supe...</td>\n",
       "      <td>175</td>\n",
       "      <td>15</td>\n",
       "    </tr>\n",
       "    <tr>\n",
       "      <th>5</th>\n",
       "      <td>54121</td>\n",
       "      <td>abs-1612.01057v4</td>\n",
       "      <td>Learning to Segment Object Candidates via Recu...</td>\n",
       "      <td>Computer Vision and Pattern Recognition</td>\n",
       "      <td>cs.CV</td>\n",
       "      <td>12/4/16</td>\n",
       "      <td>7/29/18</td>\n",
       "      <td>['Tianshui Chen', 'Liang Lin', 'Xian Wu', 'Non...</td>\n",
       "      <td>'Tianshui Chen'</td>\n",
       "      <td>To avoid the exhaustive search over locations ...</td>\n",
       "      <td>183</td>\n",
       "      <td>15</td>\n",
       "    </tr>\n",
       "    <tr>\n",
       "      <th>6</th>\n",
       "      <td>71292</td>\n",
       "      <td>abs-2207.01987v1</td>\n",
       "      <td>Open-Vocabulary 3D Detection via Image-level C...</td>\n",
       "      <td>Computer Vision and Pattern Recognition</td>\n",
       "      <td>cs.CV</td>\n",
       "      <td>7/5/22</td>\n",
       "      <td>7/5/22</td>\n",
       "      <td>['Yuheng Lu', 'Chenfeng Xu', 'Xiaobao Wei', 'X...</td>\n",
       "      <td>'Yuheng Lu'</td>\n",
       "      <td>Current point-cloud detection methods have dif...</td>\n",
       "      <td>227</td>\n",
       "      <td>15</td>\n",
       "    </tr>\n",
       "    <tr>\n",
       "      <th>7</th>\n",
       "      <td>69111</td>\n",
       "      <td>abs-2102.12096v1</td>\n",
       "      <td>PFRL: Pose-Free Reinforcement Learning for 6D ...</td>\n",
       "      <td>Computer Vision and Pattern Recognition</td>\n",
       "      <td>cs.CV</td>\n",
       "      <td>2/24/21</td>\n",
       "      <td>2/24/21</td>\n",
       "      <td>['Jianzhun Shao', 'Yuhang Jiang', 'Gu Wang', '...</td>\n",
       "      <td>'Jianzhun Shao'</td>\n",
       "      <td>6D pose estimation from a single RGB image is ...</td>\n",
       "      <td>131</td>\n",
       "      <td>15</td>\n",
       "    </tr>\n",
       "    <tr>\n",
       "      <th>8</th>\n",
       "      <td>81178</td>\n",
       "      <td>abs-1904.09062v1</td>\n",
       "      <td>Semi-Supervised First-Person Activity Recognit...</td>\n",
       "      <td>Image and Video Processing</td>\n",
       "      <td>eess.IV</td>\n",
       "      <td>4/19/19</td>\n",
       "      <td>4/19/19</td>\n",
       "      <td>['Honglin Chen', 'Hao Li', 'Alexander Song', '...</td>\n",
       "      <td>'Honglin Chen'</td>\n",
       "      <td>Body-worn cameras are now commonly used for lo...</td>\n",
       "      <td>150</td>\n",
       "      <td>15</td>\n",
       "    </tr>\n",
       "    <tr>\n",
       "      <th>9</th>\n",
       "      <td>69564</td>\n",
       "      <td>abs-2107.13824v2</td>\n",
       "      <td>VMNet: Voxel-Mesh Network for Geodesic-Aware 3...</td>\n",
       "      <td>Computer Vision and Pattern Recognition</td>\n",
       "      <td>cs.CV</td>\n",
       "      <td>7/29/21</td>\n",
       "      <td>7/25/22</td>\n",
       "      <td>['Zeyu Hu', 'Xuyang Bai', 'Jiaxiang Shang', 'R...</td>\n",
       "      <td>'Zeyu Hu'</td>\n",
       "      <td>In recent years, sparse voxel-based methods ha...</td>\n",
       "      <td>193</td>\n",
       "      <td>15</td>\n",
       "    </tr>\n",
       "  </tbody>\n",
       "</table>\n",
       "</div>"
      ],
      "text/plain": [
       "   Unnamed: 0                id  \\\n",
       "0       69011  abs-2102.07318v4   \n",
       "1       57403  abs-1812.05788v2   \n",
       "2       63453  abs-2012.04641v2   \n",
       "3       72438  abs-2211.05531v1   \n",
       "4       63231  abs-2011.11814v3   \n",
       "5       54121  abs-1612.01057v4   \n",
       "6       71292  abs-2207.01987v1   \n",
       "7       69111  abs-2102.12096v1   \n",
       "8       81178  abs-1904.09062v1   \n",
       "9       69564  abs-2107.13824v2   \n",
       "\n",
       "                                               title  \\\n",
       "0  A Global to Local Double Embedding Method for ...   \n",
       "1  AU R-CNN: Encoding Expert Prior Knowledge into...   \n",
       "2  Vid2CAD: CAD Model Alignment using Multi-View ...   \n",
       "3  SWTF: Sparse Weighted Temporal Fusion for Dron...   \n",
       "4  MonoRec: Semi-Supervised Dense Reconstruction ...   \n",
       "5  Learning to Segment Object Candidates via Recu...   \n",
       "6  Open-Vocabulary 3D Detection via Image-level C...   \n",
       "7  PFRL: Pose-Free Reinforcement Learning for 6D ...   \n",
       "8  Semi-Supervised First-Person Activity Recognit...   \n",
       "9  VMNet: Voxel-Mesh Network for Geodesic-Aware 3...   \n",
       "\n",
       "                                  category category_code published_date  \\\n",
       "0  Computer Vision and Pattern Recognition         cs.CV        2/15/21   \n",
       "1  Computer Vision and Pattern Recognition         cs.CV       12/14/18   \n",
       "2  Computer Vision and Pattern Recognition         cs.CV        12/8/20   \n",
       "3  Computer Vision and Pattern Recognition         cs.CV       11/10/22   \n",
       "4  Computer Vision and Pattern Recognition         cs.CV       11/24/20   \n",
       "5  Computer Vision and Pattern Recognition         cs.CV        12/4/16   \n",
       "6  Computer Vision and Pattern Recognition         cs.CV         7/5/22   \n",
       "7  Computer Vision and Pattern Recognition         cs.CV        2/24/21   \n",
       "8               Image and Video Processing       eess.IV        4/19/19   \n",
       "9  Computer Vision and Pattern Recognition         cs.CV        7/29/21   \n",
       "\n",
       "  updated_date                                            authors  \\\n",
       "0     10/17/21  ['Yiming Xu', 'Jiaxin Li', 'Yiheng Peng', 'Yan...   \n",
       "1      8/25/19              ['Chen Ma', 'Li Chen', 'Junhai Yong']   \n",
       "2      1/25/22  ['Kevis-Kokitsi Maninis', 'Stefan Popov', 'Mat...   \n",
       "3     11/10/22  ['Santosh Kumar Yadav', 'Esha Pahwa', 'Achlesh...   \n",
       "4       5/6/21  ['Felix Wimbauer', 'Nan Yang', 'Lukas von Stum...   \n",
       "5      7/29/18  ['Tianshui Chen', 'Liang Lin', 'Xian Wu', 'Non...   \n",
       "6       7/5/22  ['Yuheng Lu', 'Chenfeng Xu', 'Xiaobao Wei', 'X...   \n",
       "7      2/24/21  ['Jianzhun Shao', 'Yuhang Jiang', 'Gu Wang', '...   \n",
       "8      4/19/19  ['Honglin Chen', 'Hao Li', 'Alexander Song', '...   \n",
       "9      7/25/22  ['Zeyu Hu', 'Xuyang Bai', 'Jiaxiang Shang', 'R...   \n",
       "\n",
       "              first_author                                            summary  \\\n",
       "0              'Yiming Xu'  Multi-person pose estimation is a fundamental ...   \n",
       "1                'Chen Ma'  Detecting action units (AUs) on human faces is...   \n",
       "2  'Kevis-Kokitsi Maninis'  We address the task of aligning CAD models to ...   \n",
       "3    'Santosh Kumar Yadav'  Drone-camera based human activity recognition ...   \n",
       "4         'Felix Wimbauer'  In this paper, we propose MonoRec, a semi-supe...   \n",
       "5          'Tianshui Chen'  To avoid the exhaustive search over locations ...   \n",
       "6              'Yuheng Lu'  Current point-cloud detection methods have dif...   \n",
       "7          'Jianzhun Shao'  6D pose estimation from a single RGB image is ...   \n",
       "8           'Honglin Chen'  Body-worn cameras are now commonly used for lo...   \n",
       "9                'Zeyu Hu'  In recent years, sparse voxel-based methods ha...   \n",
       "\n",
       "   summary_word_count  cluster_id  \n",
       "0                 212          15  \n",
       "1                 245          15  \n",
       "2                 154          15  \n",
       "3                 231          15  \n",
       "4                 175          15  \n",
       "5                 183          15  \n",
       "6                 227          15  \n",
       "7                 131          15  \n",
       "8                 150          15  \n",
       "9                 193          15  "
      ]
     },
     "execution_count": 26,
     "metadata": {},
     "output_type": "execute_result"
    }
   ],
   "source": [
    "reload_cluster_15.head(10)"
   ]
  },
  {
   "cell_type": "code",
   "execution_count": null,
   "id": "15a24593c5815333",
   "metadata": {
    "ExecuteTime": {
     "end_time": "2025-05-04T13:07:28.198681Z",
     "start_time": "2025-05-04T13:07:28.060663Z"
    }
   },
   "outputs": [
    {
     "data": {
      "text/plain": [
       "0      Multi-person pose estimation is a fundamental ...\n",
       "1      Detecting action units (AUs) on human faces is...\n",
       "2      We address the task of aligning CAD models to ...\n",
       "3      Drone-camera based human activity recognition ...\n",
       "4      In this paper, we propose MonoRec, a semi-supe...\n",
       "                             ...                        \n",
       "631    We present a technique for a complete 3D recon...\n",
       "632    Although many advances have been made in light...\n",
       "633    We strive for spatio-temporal localization of ...\n",
       "634    We present a novel formulation of the multiple...\n",
       "635    This paper is the first to review the scene fl...\n",
       "Name: summary, Length: 636, dtype: object"
      ]
     },
     "execution_count": 27,
     "metadata": {},
     "output_type": "execute_result"
    }
   ],
   "source": [
    "reload_cluster_15['summary']"
   ]
  },
  {
   "cell_type": "code",
   "execution_count": null,
   "id": "c6fa780345149d3c",
   "metadata": {
    "ExecuteTime": {
     "end_time": "2025-05-04T13:08:24.605979Z",
     "start_time": "2025-05-04T13:08:24.552145Z"
    }
   },
   "outputs": [],
   "source": [
    "reload_cluster_15['summary'].to_csv(f'{Config.BASE_OUTPUT_PATH}/cluster_summary_15.csv')"
   ]
  },
  {
   "cell_type": "code",
   "execution_count": null,
   "id": "d30619195372b54",
   "metadata": {
    "ExecuteTime": {
     "end_time": "2025-05-07T02:41:06.494823Z",
     "start_time": "2025-05-07T02:41:06.441342Z"
    }
   },
   "outputs": [
    {
     "ename": "NameError",
     "evalue": "name 'cluster_15' is not defined",
     "output_type": "error",
     "traceback": [
      "\u001b[0;31m---------------------------------------------------------------------------\u001b[0m",
      "\u001b[0;31mNameError\u001b[0m                                 Traceback (most recent call last)",
      "Cell \u001b[0;32mIn[12], line 1\u001b[0m\n\u001b[0;32m----> 1\u001b[0m \u001b[43mcluster_15\u001b[49m\n",
      "\u001b[0;31mNameError\u001b[0m: name 'cluster_15' is not defined"
     ]
    }
   ],
   "source": [
    "cluster_15"
   ]
  },
  {
   "cell_type": "code",
   "execution_count": null,
   "id": "3ce25b0536454561",
   "metadata": {
    "ExecuteTime": {
     "end_time": "2025-05-07T02:42:29.272323Z",
     "start_time": "2025-05-07T02:42:28.970596Z"
    }
   },
   "outputs": [],
   "source": [
    "df.to_csv(f'{Config.BASE_OUTPUT_PATH}/cluster_sample_{Config.SAMPLE}.csv')"
   ]
  },
  {
   "cell_type": "code",
   "execution_count": null,
   "id": "619be4fe608bbaf2",
   "metadata": {},
   "outputs": [],
   "source": []
  }
 ],
 "metadata": {
  "kernelspec": {
   "display_name": "Python 3",
   "language": "python",
   "name": "python3"
  },
  "language_info": {
   "codemirror_mode": {
    "name": "ipython",
    "version": 3
   },
   "file_extension": ".py",
   "mimetype": "text/x-python",
   "name": "python",
   "nbconvert_exporter": "python",
   "pygments_lexer": "ipython3",
   "version": "3.10.8"
  }
 },
 "nbformat": 4,
 "nbformat_minor": 5
}
